{
 "cells": [
  {
   "cell_type": "code",
   "execution_count": 1,
   "metadata": {},
   "outputs": [
    {
     "name": "stdout",
     "output_type": "stream",
     "text": [
      "2\n",
      "3\n",
      "5\n",
      "7\n",
      "11\n",
      "13\n",
      "17\n",
      "19\n"
     ]
    }
   ],
   "source": [
    "# Example 1.1: functions\n",
    "# Define a function isPrime which check if a number is prime or not.\n",
    "# if the num is prime print the num\n",
    "# print all the prime numbers from 2-20 using this function\n",
    "\n",
    "def isPrime(num):\n",
    "    prime = True\n",
    "    for i in range(2,num):\n",
    "        if(num%i == 0):\n",
    "            prime = False\n",
    "    if(prime):\n",
    "        print(num)\n",
    "\n",
    "for i in range(2,21):\n",
    "    isPrime(i)"
   ]
  },
  {
   "cell_type": "markdown",
   "metadata": {},
   "source": [
    "__Exercise 1.1:__\n",
    "<br>\n",
    "Write a function called __*printArg*__ that takes in a parameter called \"strToPrint\" and simply prints strToPrint. After you are done writing the function, uncomment the function call, and run the code to check your work."
   ]
  },
  {
   "cell_type": "code",
   "execution_count": 2,
   "metadata": {},
   "outputs": [
    {
     "name": "stdout",
     "output_type": "stream",
     "text": [
      "hello world\n"
     ]
    }
   ],
   "source": [
    "### START CODE HERE ### (≈ 2 lines of code)\n",
    "def printArg(strToPrint):\n",
    "    print(strToPrint)\n",
    "printArg(\"hello world\")\n",
    "###END CODE HERE ###\n",
    "\n",
    "#uncomment after writing the function \"printArg\"\n",
    "#printArg(\"hello world\")"
   ]
  },
  {
   "cell_type": "markdown",
   "metadata": {},
   "source": [
    "__Expected Output:__\n",
    "<br>\n",
    "hello world"
   ]
  },
  {
   "cell_type": "code",
   "execution_count": 3,
   "metadata": {},
   "outputs": [
    {
     "name": "stdout",
     "output_type": "stream",
     "text": [
      "('Inside the function', ['apple', 'orange', 1, 2])\n",
      "('After function call', ['apple', 'orange', 1, 2])\n"
     ]
    }
   ],
   "source": [
    "#Example 1.2: Function (Pass by Reference)\n",
    "#Create a function which appends the values 1 and 2 to the list passed. \n",
    "#Print the list inside the function and right after function call \n",
    "\n",
    "def updateList(listParm):\n",
    "    listParm.append(1)\n",
    "    listParm.append(2)\n",
    "    print(\"Inside the function\",listParm)\n",
    "\n",
    "myList= ['apple','orange']\n",
    "updateList(myList)\n",
    "print(\"After function call\",myList)"
   ]
  },
  {
   "cell_type": "markdown",
   "metadata": {},
   "source": [
    "__Exercise 1.2:__ \n",
    "<br>\n",
    "Write a function __increment__ that takes in a parameter called \"nums\". The function adds 1 to the first element in the list and then prints the whole list. After you are done writing the function, uncomment the function call to __increment__ and the print statement below it. You should see that the action in the function is reflected outside of the function as well."
   ]
  },
  {
   "cell_type": "code",
   "execution_count": 3,
   "metadata": {},
   "outputs": [
    {
     "name": "stdout",
     "output_type": "stream",
     "text": [
      "[6, 7]\n",
      "[6, 7]\n"
     ]
    }
   ],
   "source": [
    "### START CODE HERE ### (≈ 3 lines of code)\n",
    "def increment(nums):\n",
    "    nums[0] = nums[0] + 1\n",
    "    print(nums)\n",
    "n = [5,7]\n",
    "increment(n)\n",
    "print(n)\n",
    "###END CODE HERE ###\n",
    "\n",
    "#uncomment these lines after writing the function \"increment\"\n",
    "#n = [5, 7]\n",
    "#increment(n)\n",
    "#print(n)\n"
   ]
  },
  {
   "cell_type": "markdown",
   "metadata": {},
   "source": [
    "__Expected Output:__\n",
    "<br>\n",
    "[6, 7]\n",
    "<br>\n",
    "[6, 7]"
   ]
  },
  {
   "cell_type": "code",
   "execution_count": 5,
   "metadata": {},
   "outputs": [
    {
     "name": "stdout",
     "output_type": "stream",
     "text": [
      "('a:', 1)\n",
      "('b:', 2)\n",
      "('a:', 2)\n",
      "('b:', 1)\n"
     ]
    }
   ],
   "source": [
    "#Example 1.3 : Keyword arguments\n",
    "def printNumbers(a,b):\n",
    "    print('a:',a)\n",
    "    print('b:',b)\n",
    "\n",
    "x=1\n",
    "y=2\n",
    "printNumbers(x,y)\n",
    "printNumbers(b =x , a=y) #Note order has been changed"
   ]
  },
  {
   "cell_type": "markdown",
   "metadata": {},
   "source": [
    "__Exercise 1.3:__\n",
    "<br>\n",
    "Uncomment the second function call to \"printNumbers\" and assign __*x*__ and __*y*__ to __*a*__ and __*b*__ in such a way, that the 5 is printed before 7. "
   ]
  },
  {
   "cell_type": "code",
   "execution_count": 5,
   "metadata": {},
   "outputs": [
    {
     "name": "stdout",
     "output_type": "stream",
     "text": [
      "7\n",
      "5\n",
      "5\n",
      "7\n"
     ]
    }
   ],
   "source": [
    "def printNumbers(a,b):\n",
    "    print(a)\n",
    "    print(b)\n",
    "    \n",
    "x = 7\n",
    "y = 5\n",
    "printNumbers(x, y)\n",
    "\n",
    "#uncomment\n",
    "printNumbers(b = x, a = y)"
   ]
  },
  {
   "cell_type": "markdown",
   "metadata": {},
   "source": [
    "__Expected Output:__\n",
    "<br>\n",
    "7\n",
    "<br>\n",
    "5\n",
    "<br>\n",
    "5\n",
    "<br>\n",
    "7"
   ]
  },
  {
   "cell_type": "code",
   "execution_count": 7,
   "metadata": {},
   "outputs": [
    {
     "name": "stdout",
     "output_type": "stream",
     "text": [
      "Call 1\n",
      "('a:', 1)\n",
      "('b:', 2)\n",
      "Call 2\n",
      "('a:', 3)\n",
      "('b:', 2)\n",
      "Call 3\n",
      "('a:', 1)\n",
      "('b:', 6)\n",
      "Call 4\n",
      "('a:', 7)\n",
      "('b:', 8)\n"
     ]
    }
   ],
   "source": [
    "#Example 1.4 : Default arguments\n",
    "def printNumbers(a=1,b=2):\n",
    "    print('a:',a)\n",
    "    print('b:',b)\n",
    "\n",
    "print('Call 1')\n",
    "printNumbers()\n",
    "print('Call 2')\n",
    "printNumbers(a=3)\n",
    "print('Call 3')\n",
    "printNumbers(b=6)\n",
    "print('Call 4')\n",
    "printNumbers(a=7,b=8)"
   ]
  },
  {
   "cell_type": "markdown",
   "metadata": {},
   "source": [
    "__Exercise 1.4:__\n",
    "Write 2 calls to \"printNumbers\", such that the output matches the expected output below. Make sure you only perform 2 calls. "
   ]
  },
  {
   "cell_type": "code",
   "execution_count": 9,
   "metadata": {},
   "outputs": [
    {
     "name": "stdout",
     "output_type": "stream",
     "text": [
      "5\n",
      "1\n",
      "8\n",
      "4\n"
     ]
    }
   ],
   "source": [
    "def printNumbers(a = 5, b = 1):\n",
    "    print(a)\n",
    "    print(b)\n",
    "    \n",
    "### START CODE HERE ### (≈ 2 lines of code)\n",
    "printNumbers()\n",
    "printNumbers(a = 8, b = 4)\n",
    "\n",
    "###END CODE HERE ###"
   ]
  },
  {
   "cell_type": "markdown",
   "metadata": {},
   "source": [
    "__Expected Output:__\n",
    "<br>\n",
    "5\n",
    "<br>\n",
    "1\n",
    "<br>\n",
    "8\n",
    "<br>\n",
    "4"
   ]
  },
  {
   "cell_type": "code",
   "execution_count": 9,
   "metadata": {},
   "outputs": [
    {
     "name": "stdout",
     "output_type": "stream",
     "text": [
      "9\n",
      "13\n"
     ]
    }
   ],
   "source": [
    "#Example 1.5 : Return Statement\n",
    "#create a function which returns the sum of two numbers passed\n",
    "\n",
    "def calculateSum(a,b):\n",
    "    return(a+b)\n",
    "\n",
    "answer = calculateSum(4,5)\n",
    "print(answer)\n",
    "\n",
    "print(calculateSum(6,7))"
   ]
  },
  {
   "cell_type": "markdown",
   "metadata": {},
   "source": [
    "__Exercise 1.5:__\n",
    "<br>\n",
    "Write a function called \"calculateProduct\" that returns the product of the parameters __*a*__ and __*b*__. Uncomment the print statement after you have finished writing the function to check your code."
   ]
  },
  {
   "cell_type": "code",
   "execution_count": 10,
   "metadata": {},
   "outputs": [
    {
     "name": "stdout",
     "output_type": "stream",
     "text": [
      "20\n"
     ]
    }
   ],
   "source": [
    "### START FUNCTION CODE HERE ### (≈ 2 lines of code)\n",
    "def calculateProduct(a,b):\n",
    "    return(a*b)\n",
    "###END FUNCTION CODE HERE ###\n",
    "\n",
    "#uncomment this code after you have finished writing the function\n",
    "print(calculateProduct(4, 5))\n"
   ]
  },
  {
   "cell_type": "markdown",
   "metadata": {},
   "source": [
    "__Expected Output:__\n",
    "<br>\n",
    "20"
   ]
  },
  {
   "cell_type": "code",
   "execution_count": 11,
   "metadata": {},
   "outputs": [
    {
     "name": "stdout",
     "output_type": "stream",
     "text": [
      "('Inside the function local total : ', 30)\n",
      "('Outside the function global total : ', 0)\n"
     ]
    }
   ],
   "source": [
    "#Example 1.6 : Local variable vs global variable\n",
    "\n",
    "total = 0;  #global variable\n",
    "def calculateSum( a, b ):\n",
    "   total = a + b #local variable\n",
    "   print(\"Inside the function local total : \", total)\n",
    "   return total\n",
    "\n",
    "\n",
    "calculateSum( 10, 20 )\n",
    "print(\"Outside the function global total : \", total)"
   ]
  },
  {
   "cell_type": "code",
   "execution_count": 12,
   "metadata": {
    "collapsed": true
   },
   "outputs": [],
   "source": [
    "#Example 2: Modules : import\n",
    "# A module can simply be a file with python code, which we can use in our source file \n",
    "# For this we use the keyword 'import'\n",
    "# This helps in better organising our code \n",
    "# we can import inbuilt packages or a file created by us"
   ]
  },
  {
   "cell_type": "code",
   "execution_count": 13,
   "metadata": {},
   "outputs": [
    {
     "name": "stdout",
     "output_type": "stream",
     "text": [
      "set([1, 2, 3])\n",
      "set(['Hello', 7.9, (1, 2, 3)])\n"
     ]
    }
   ],
   "source": [
    "#Example 3.1: sets\n",
    "set1 = {1, 2, 3}\n",
    "print(set1)\n",
    "\n",
    "set2 = {7.9, \"Hello\", (1, 2, 3)}\n",
    "print(set2)"
   ]
  },
  {
   "cell_type": "markdown",
   "metadata": {},
   "source": [
    "__Exercise 3.1:__\n",
    "<br>\n",
    "Create a set called __*mySet*__ with the following elements: 76, \"hi\", 5.6. Print the set after you create it."
   ]
  },
  {
   "cell_type": "code",
   "execution_count": 11,
   "metadata": {},
   "outputs": [
    {
     "name": "stdout",
     "output_type": "stream",
     "text": [
      "{'hi', 76, 5.6}\n"
     ]
    }
   ],
   "source": [
    "### START CODE HERE ### (≈ 2 lines of code)\n",
    "mySet = {76,\"hi\",5.6}\n",
    "print(mySet)\n",
    "###END CODE HERE ###"
   ]
  },
  {
   "cell_type": "markdown",
   "metadata": {},
   "source": [
    "__Expected Output:__\n",
    "<br>\n",
    "set([5.6, 'hi', 76])"
   ]
  },
  {
   "cell_type": "code",
   "execution_count": 15,
   "metadata": {},
   "outputs": [
    {
     "name": "stdout",
     "output_type": "stream",
     "text": [
      "<type 'set'>\n",
      "set([3.0, 'b', 'apple', 'sd'])\n",
      "set([1, 3.0, 4, 5, 6, 8, 'b', 'sd', 'apple'])\n"
     ]
    }
   ],
   "source": [
    "#Example 3.2 : sets\n",
    "a = set()\n",
    "print(type(a))\n",
    "a.add('apple')\n",
    "a.add('b')\n",
    "a.add(3.0)\n",
    "a.add('sd')\n",
    "\n",
    "print(a)\n",
    "a.update([4,5], {1,6,8})\n",
    "\n",
    "print(a)"
   ]
  },
  {
   "cell_type": "markdown",
   "metadata": {},
   "source": [
    "__Exercise 3.2:__\n",
    "<br>\n",
    "Add the value 4.5 to the set below. Print the set after the value has been added."
   ]
  },
  {
   "cell_type": "code",
   "execution_count": 12,
   "metadata": {},
   "outputs": [
    {
     "name": "stdout",
     "output_type": "stream",
     "text": [
      "{'ucla', 5}\n",
      "{'ucla', 4.5, 5}\n"
     ]
    }
   ],
   "source": [
    "testSet = {\"ucla\", 5}\n",
    "print(testSet)\n",
    "\n",
    "### START CODE HERE ### (≈ 2 lines of code)\n",
    "testSet.add(4.5)\n",
    "print(testSet)\n",
    "###END CODE HERE ###"
   ]
  },
  {
   "cell_type": "markdown",
   "metadata": {},
   "source": [
    "__Expected Output (It is fine if the order of elements does not match):__\n",
    "<br>\n",
    "set(['ucla', 5])\n",
    "<br>\n",
    "set([4.5, 'ucla', 5])\n"
   ]
  },
  {
   "cell_type": "code",
   "execution_count": 17,
   "metadata": {},
   "outputs": [
    {
     "name": "stdout",
     "output_type": "stream",
     "text": [
      "set([1, 2, 3, 4, 5, 6, 7, 8])\n",
      "set([1, 2, 3, 4, 5, 6, 7, 8])\n"
     ]
    }
   ],
   "source": [
    "#Example 3.3 : Sets : Union \n",
    "A = {1, 2, 3, 4, 5}\n",
    "B = {4, 5, 6, 7, 8}\n",
    "\n",
    "#union \n",
    "print(A | B)\n",
    "print(A.union(B))"
   ]
  },
  {
   "cell_type": "markdown",
   "metadata": {},
   "source": [
    "__Exercise 3.3:__\n",
    "<br>\n",
    "Print the union of the sets __*fruits*__ and __*veggies*__."
   ]
  },
  {
   "cell_type": "code",
   "execution_count": 13,
   "metadata": {},
   "outputs": [
    {
     "name": "stdout",
     "output_type": "stream",
     "text": [
      "{'apple', 'onion', 'pear', 'carrot'}\n"
     ]
    }
   ],
   "source": [
    "fruits = {\"apple\", \"pear\"}\n",
    "veggies = {\"carrot\", \"onion\"}\n",
    "\n",
    "### START CODE HERE ### (≈ 1 lines of code)\n",
    "print(fruits | veggies)\n",
    "###END CODE HERE ###"
   ]
  },
  {
   "cell_type": "markdown",
   "metadata": {},
   "source": [
    "__Expected Output (It is fine if the order of elements does not match):__\n",
    "<br>\n",
    "set(['carrot', 'pear', 'apple', 'onion'])"
   ]
  },
  {
   "cell_type": "code",
   "execution_count": 19,
   "metadata": {},
   "outputs": [
    {
     "name": "stdout",
     "output_type": "stream",
     "text": [
      "set([4, 5])\n",
      "set([4, 5])\n"
     ]
    }
   ],
   "source": [
    "#Example 3.4 : Sets : Intersection \n",
    "A = {1, 2, 3, 4, 5}\n",
    "B = {4, 5, 6, 7, 8}\n",
    "\n",
    "print(A&B)\n",
    "print(A.intersection(B))"
   ]
  },
  {
   "cell_type": "markdown",
   "metadata": {},
   "source": [
    "__Exercise 3.4:__\n",
    "<br>\n",
    "Print the intersection of the sets __*setOne*__ and __*setTwo*__."
   ]
  },
  {
   "cell_type": "code",
   "execution_count": 14,
   "metadata": {},
   "outputs": [
    {
     "name": "stdout",
     "output_type": "stream",
     "text": [
      "{5}\n"
     ]
    }
   ],
   "source": [
    "setOne = {\"apple\", 5}\n",
    "setTwo = {\"carrot\", 5}\n",
    "\n",
    "### START CODE HERE ### (≈ 1 lines of code)\n",
    "print(setOne & setTwo)\n",
    "###END CODE HERE ###"
   ]
  },
  {
   "cell_type": "markdown",
   "metadata": {},
   "source": [
    "__Expected Output:__\n",
    "<br>\n",
    "set([5])"
   ]
  },
  {
   "cell_type": "code",
   "execution_count": 21,
   "metadata": {},
   "outputs": [
    {
     "name": "stdout",
     "output_type": "stream",
     "text": [
      "set([1, 2, 3])\n",
      "set([8, 6, 7])\n",
      "set([1, 2, 3])\n"
     ]
    }
   ],
   "source": [
    "#Example 3.5 : Sets : Difference \n",
    "A = {1, 2, 3, 4, 5}\n",
    "B = {4, 5, 6, 7, 8}\n",
    "\n",
    "print(A-B)\n",
    "print(B-A)\n",
    "print(A.difference(B))"
   ]
  },
  {
   "cell_type": "markdown",
   "metadata": {},
   "source": [
    "__Exercise 3.5:__\n",
    "<br>\n",
    "Print the difference of the sets __*setOne*__ and __*setTwo*__."
   ]
  },
  {
   "cell_type": "code",
   "execution_count": 16,
   "metadata": {},
   "outputs": [
    {
     "name": "stdout",
     "output_type": "stream",
     "text": [
      "{'apple'}\n"
     ]
    }
   ],
   "source": [
    "setOne = {\"apple\", 5}\n",
    "setTwo = {\"carrot\", 5}\n",
    "\n",
    "### START CODE HERE ### (≈ 1 lines of code)\n",
    "print(setOne - setTwo)\n",
    "###END CODE HERE ###"
   ]
  },
  {
   "cell_type": "markdown",
   "metadata": {},
   "source": [
    "__Expected Output:__\n",
    "<br>\n",
    "set(['apple'])"
   ]
  },
  {
   "cell_type": "code",
   "execution_count": 23,
   "metadata": {},
   "outputs": [
    {
     "name": "stdout",
     "output_type": "stream",
     "text": [
      "('normal argument', 'Alison')\n",
      "('values through *args :', 'John')\n",
      "('normal argument', 'Alison')\n",
      "('values through *args :', 'Katie')\n",
      "('normal argument', 'Alison')\n",
      "('values through *args :', 'Hummer')\n"
     ]
    }
   ],
   "source": [
    "#Example 4.1: *args and *kwargs \n",
    "# they allow us to pass variable number of arguments to a function\n",
    "\n",
    "def printNames(a,*args):\n",
    "    for arg in args:\n",
    "        print(\"normal argument\", a)\n",
    "        print(\"values through *args :\", arg)\n",
    "\n",
    "printNames('Alison','John','Katie','Hummer')\n",
    "printNames('jolly')"
   ]
  },
  {
   "cell_type": "markdown",
   "metadata": {},
   "source": [
    "__Exercise 4.1:__\n",
    "<br>\n",
    "Write a function called \"printArgs\" that just has the parameter __**args*__ and prints all of the arguments, each on its own line. Uncomment the function call after you are done to check your answer."
   ]
  },
  {
   "cell_type": "code",
   "execution_count": 26,
   "metadata": {},
   "outputs": [
    {
     "name": "stdout",
     "output_type": "stream",
     "text": [
      "3\n",
      "6\n",
      "9\n"
     ]
    }
   ],
   "source": [
    "### START FUNCTION CODE HERE ### (≈ 3 lines of code)\n",
    "def printArgs(*args):\n",
    "    for a in args:\n",
    "        print(a)\n",
    "###END FUNCTION CODE HERE ###\n",
    "\n",
    "#uncomment line below after you are finished writing the function\n",
    "printArgs(3, 6, 9)"
   ]
  },
  {
   "cell_type": "markdown",
   "metadata": {},
   "source": [
    "__Expected Output:__\n",
    "<br>\n",
    "3\n",
    "<br>\n",
    "6\n",
    "<br>\n",
    "9\n"
   ]
  },
  {
   "cell_type": "code",
   "execution_count": 25,
   "metadata": {},
   "outputs": [
    {
     "name": "stdout",
     "output_type": "stream",
     "text": [
      "('formal arg:', 1)\n",
      "kwargs: key: Mango  value: 3\n",
      "kwargs: key: Apple  value: two\n"
     ]
    }
   ],
   "source": [
    "#Example 4.2: *args and *kwargs \n",
    "def printValues(a, **kwargs):\n",
    "    print (\"formal arg:\", a)\n",
    "    for key in kwargs:\n",
    "        print (\"kwargs: key: %s  value: %s\" % (key, kwargs[key]))\n",
    "\n",
    "printValues(1, Apple=\"two\", Mango=3)"
   ]
  },
  {
   "cell_type": "markdown",
   "metadata": {},
   "source": [
    "__Exercise 4.2:__\n",
    "<br>\n",
    "Write a function called \"printKeys\" that just has the parameter __***kwargs*__. It prints all of the keys, each on its own line, that were passed in as part of the parameters. Uncomment the function call after you have written the function to test your code."
   ]
  },
  {
   "cell_type": "code",
   "execution_count": 35,
   "metadata": {},
   "outputs": [
    {
     "name": "stdout",
     "output_type": "stream",
     "text": [
      "Name\n",
      "ID\n",
      "Major\n"
     ]
    }
   ],
   "source": [
    "### START FUNCTION CODE HERE ### (≈ 3 lines of code)\n",
    "def printKeys(**kwargs):\n",
    "    for key in kwargs:\n",
    "        print (key)\n",
    "###END FUNCTION CODE HERE ###\n",
    "\n",
    "#uncomment the line below to test your code\n",
    "printKeys(Name=\"Sam\", ID=34, Major=\"CS\")"
   ]
  },
  {
   "cell_type": "markdown",
   "metadata": {},
   "source": [
    "__Expected Output (It is fine if the order of elements does not match):__\n",
    "<br>\n",
    "Major\n",
    "<br>\n",
    "Name\n",
    "<br>\n",
    "ID"
   ]
  },
  {
   "cell_type": "code",
   "execution_count": 36,
   "metadata": {},
   "outputs": [
    {
     "name": "stdout",
     "output_type": "stream",
     "text": [
      "Hello! Your code is working! \n",
      " This is an example\n"
     ]
    }
   ],
   "source": [
    "#Example 5: Reading from files\n",
    "file = open(\"sample1.txt\",\"w\")\n",
    "file.write(\"Hello! Your code is working! \\n This is an example\")\n",
    "file.close()\n",
    "file = open(\"sample1.txt\",\"r\")\n",
    "str =file.read()\n",
    "print(str)\n",
    "\n",
    "# verify if a file was created in the directory"
   ]
  },
  {
   "cell_type": "code",
   "execution_count": 37,
   "metadata": {},
   "outputs": [
    {
     "name": "stdout",
     "output_type": "stream",
     "text": [
      "task completed successfully\n"
     ]
    }
   ],
   "source": [
    "#Example 6: Exception Handling\n",
    "try:\n",
    "   file = open(\"sample2.txt\", \"w\")\n",
    "   file.write(\"sample2!!\")\n",
    "except IOError:\n",
    "   print(\"Error occured while writing to file.\")\n",
    "else:\n",
    "   print(\"task completed successfully\")\n",
    "   file.close()"
   ]
  }
 ],
 "metadata": {
  "kernelspec": {
   "display_name": "Python 3",
   "language": "python",
   "name": "python3"
  },
  "language_info": {
   "codemirror_mode": {
    "name": "ipython",
    "version": 3
   },
   "file_extension": ".py",
   "mimetype": "text/x-python",
   "name": "python",
   "nbconvert_exporter": "python",
   "pygments_lexer": "ipython3",
   "version": "3.6.3"
  }
 },
 "nbformat": 4,
 "nbformat_minor": 1
}

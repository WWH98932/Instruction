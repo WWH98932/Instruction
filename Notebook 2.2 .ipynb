{
 "cells": [
  {
   "cell_type": "markdown",
   "metadata": {},
   "source": [
    "## Introduction to Applied Data Science, Notebook 2.2 "
   ]
  },
  {
   "cell_type": "code",
   "execution_count": null,
   "metadata": {},
   "outputs": [],
   "source": [
    "'''LESSON 2.1 WRITING DATA TO A TEXT FILE\n",
    "In order to write to a txt file, you must first open the file and get a \n",
    "file object associated with that file. The open function is used to achieve this.\n",
    "\n",
    "file object = open(<filename>, <mode>)\n",
    "\n",
    "The filename argument is the name of the file you want to open, and the mode \n",
    "specified what you will be doing with the file. For writing, you would use 'w'.\n",
    "Next, you will write data to the file. \n",
    "\n",
    "print (<fileObject>.write(<data>) # will write that string to a file.\n",
    "\n",
    "Finally, we close the file.\n",
    "\n",
    "<fileObject>.close()\n",
    "'''\n",
    "#Example\n",
    "writeFile = open(\"write_data.txt\", 'w')\n",
    "writeFile.write(\"Hello\")\n",
    "writeFile.close()\n",
    "\n",
    "#First, we open the file in write mode using the open function. \n",
    "#Next, we use the write function to write data to the file. The string we want to write is given as an arguement to the\n",
    "#write function.\n",
    "#Finally, we close the file using the close() function.\n",
    "\n",
    "#For more information on writing data to a file, here is a website with more information.\n",
    "#http://www.pythonforbeginners.com/files/reading-and-writing-files-in-python\n"
   ]
  },
  {
   "cell_type": "markdown",
   "metadata": {},
   "source": [
    "__Exercise 1:__\n",
    "<br>\n",
    "Write the sentence \"Economics is cool!\" to the file \"write_data.txt\"."
   ]
  },
  {
   "cell_type": "code",
   "execution_count": null,
   "metadata": {
    "collapsed": true
   },
   "outputs": [],
   "source": [
    "### START CODE HERE ### (≈ 3 lines of code)\n",
    "\n",
    "###END CODE HERE ###"
   ]
  },
  {
   "cell_type": "markdown",
   "metadata": {},
   "source": [
    "__Expected Output:__\n",
    "<br>\n",
    "Just check the file to see if your sentence appears."
   ]
  },
  {
   "cell_type": "code",
   "execution_count": null,
   "metadata": {},
   "outputs": [],
   "source": [
    "'''LESSON 2: WRITING DATA TO A CSV FILE\n",
    "To write from a CSV file, we will first need to import the CSV module. Next the following steps are performed. The code below\n",
    "writes a line to a csv file. The delimiter option in the write function determines what seperates the \n",
    "individual elements that you are writing.\n",
    "'''\n",
    "import csv\n",
    "outFile = open(\"write_csv.csv\", 'w')\n",
    "writer = csv.writer(outFile, delimiter=',')\n",
    "writer.writerow([\"Sam\", \"Doe\", 4, 6])\n",
    "\n",
    "outFile.close()\n",
    "\n",
    "# First, the CSV file to where we want to write the data is opened using the open function()\n",
    "# Next, the csv writing object is created. The csv.writer function takes in the file object that is associated with \n",
    "# with the file we want to write to. In addition, the delimiter option is specified.\n",
    "# Next, we use the csv writing object to call writerow, which writes a row of data to the file.\n",
    "# Finally, we close te file using the close() function\n",
    "\n",
    "#Here is a link to more information on writing to csv files:\n",
    "#http://www.pythonforbeginners.com/systems-programming/using-the-csv-module-in-python/\n"
   ]
  },
  {
   "cell_type": "code",
   "execution_count": null,
   "metadata": {
    "collapsed": true
   },
   "outputs": [],
   "source": [
    "'''LESSON 3 WRITING JSON DATA TO A FILE\n",
    "In order to write JSON to a file, first you must prepare a dictionary that takes on the structure of the json data.\n",
    "Then we can use the json.dump function which is a part of the json module to output that data to a file. Here is an \n",
    "example below. \n",
    "'''\n",
    "import json\n",
    "\n",
    "data = {\n",
    "   'name' : 'John',\n",
    "   'age' : 22,\n",
    "   'id' : 54\n",
    "}\n",
    "\n",
    "fileWrite = open(\"write_json.json\", 'w') # opening the file and retrieving the file object\n",
    "json.dump(data, fileWrite)\n",
    "fileWrite.close()\n",
    "\n",
    "# First, we have a dictionary that has the structure of our json data. \n",
    "# Next, we open the file we want to write to using the open() function\n",
    "# Next, we use the json.dump function to write the data to the file. The first arguement is the data which is a \n",
    "# dictionary. The second arguement is the file object associated with the file we want to write to.\n",
    "# Finally, we close the file using the close() function.\n",
    "\n",
    "\n",
    "# Here is a link that contains more informatio on writing json data to a file\n",
    "#https://www.safaribooksonline.com/library/view/python-cookbook-3rd/9781449357337/ch06s02.html"
   ]
  },
  {
   "cell_type": "markdown",
   "metadata": {},
   "source": [
    "__Exercise 3:__\n",
    "<br>\n",
    "Write the dictionary named \"classes\" in json format to the file \"write_json.json\". Don't forget to close the file after you have finished."
   ]
  },
  {
   "cell_type": "code",
   "execution_count": null,
   "metadata": {
    "collapsed": true
   },
   "outputs": [],
   "source": [
    "import json\n",
    "data = {\n",
    "   'name' : 'ECONOMICS 423',\n",
    "   'building' : \"PUBLIC AFFAIRS\",\n",
    "   'size' : 50,\n",
    "   'id' : 344\n",
    "}\n",
    "### START CODE HERE ### (≈ 3 lines of code)\n",
    "\n",
    "###END CODE HERE ###"
   ]
  },
  {
   "cell_type": "markdown",
   "metadata": {},
   "source": [
    "__Expected Output:__\n",
    "<br>\n",
    "Check the file to see the json data."
   ]
  },
  {
   "cell_type": "code",
   "execution_count": null,
   "metadata": {},
   "outputs": [],
   "source": [
    "'''LESSON 4: ACCESSING REST APIs USING PYTHON\n",
    "REST stands for Representational State Transfer and is an architectural style for applications. To talk to these\n",
    "applicatios, HTTP, which is a type of protocol for the web, is used. Python can allow us to make requests for data\n",
    "from our code. The \"request\" module allows us to make requests for data to REST apis. Here is an exmaple of how to \n",
    "use the requests module. \n",
    "'''\n",
    "import requests\n",
    "url = \"https://en.wikipedia.org/wiki/Data_science\" #the url of the page we want to retrieve\n",
    "data = requests.get(url) #making an HTTP get request to the website. Basically, we are asking for data. \n",
    "print(data.status_code) #printing the status code of the get request. 200 means \"OK\"\n",
    "print(data.text) #printing the data. In this case it is the webpage in HTML form.\n",
    "\n",
    "#Here are some links that can give you more information on this topic:\n",
    "#http://docs.python-requests.org/en/master/user/quickstart/\n",
    "#http://docs.python-requests.org/en/master/"
   ]
  },
  {
   "cell_type": "markdown",
   "metadata": {},
   "source": [
    "__Exercise 4:__\n",
    "<br>\n",
    "Make a request to the url \"https://www.google.com/\". If you receive the status 200 after making a \"GET request\", print the data. Else, print \"Error!\"."
   ]
  },
  {
   "cell_type": "code",
   "execution_count": null,
   "metadata": {
    "collapsed": true
   },
   "outputs": [],
   "source": [
    "### START CODE HERE ### (≈ 7 lines of code)\n",
    "\n",
    "###END CODE HERE ###"
   ]
  },
  {
   "cell_type": "markdown",
   "metadata": {},
   "source": [
    "__Expected Output:__\n",
    "<br>\n",
    "Either the HTML for the requested webpage or an error message.    "
   ]
  }
 ],
 "metadata": {
  "kernelspec": {
   "display_name": "Python 3",
   "language": "python",
   "name": "python3"
  },
  "language_info": {
   "codemirror_mode": {
    "name": "ipython",
    "version": 3
   },
   "file_extension": ".py",
   "mimetype": "text/x-python",
   "name": "python",
   "nbconvert_exporter": "python",
   "pygments_lexer": "ipython3",
   "version": "3.6.3"
  }
 },
 "nbformat": 4,
 "nbformat_minor": 2
}

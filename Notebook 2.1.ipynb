{
 "cells": [
  {
   "cell_type": "markdown",
   "metadata": {},
   "source": [
    "## Introduction to Applied Data Science, Notebook 2.1 "
   ]
  },
  {
   "cell_type": "code",
   "execution_count": null,
   "metadata": {},
   "outputs": [],
   "source": [
    "'''LESSON 1 READING DATA FROM A TEXT FILE\n",
    "In order to read from a text file, you must first open the file and get a \n",
    "file object associated with that file. The open function is used to achieve this.\n",
    "\n",
    "file object = open(<filename>, <mode>)\n",
    "\n",
    "The filename argument is the name of the file you want to open. More specifically, it is a path to that file. \n",
    "The mode arguement specifies what you will be doing with the file. Some examples of modes are:\n",
    "\n",
    "r mode -> use when you are reading a file\n",
    "w mode -> use when you are writing to a file\n",
    "a mode -> use when you want to keep the contents of the file and just append new data to the end.\n",
    "\n",
    "\n",
    "For reading, you would use 'r'mode.\n",
    "Next, you will read the contents of the file. \n",
    "\n",
    "print (<fileObject>.read(<num>) # will print the first 'num' characters of the file\n",
    "print(<fileObject.readline()) # will print a line of the current file. The position in file moves to the line. \n",
    "\n",
    "Finally, we close the file.\n",
    "\n",
    "<fileObject>.close()\n",
    "'''\n",
    "#Example\n",
    "readFile = open(\"data_science_wiki.txt\", 'r')\n",
    "print(readFile.readline())\n",
    "print(readFile.readline())\n",
    "readFile.close()\n",
    "\n",
    "#For more information on reading data from a file, here is a website with more information.\n",
    "#http://www.pythonforbeginners.com/files/reading-and-writing-files-in-python\n"
   ]
  },
  {
   "cell_type": "markdown",
   "metadata": {},
   "source": [
    "__Exercise 1:__ \n",
    "<br>\n",
    "Open the file \"data_science_wiki.txt\". Then print the first 10 of the txt file using the read \n",
    "<br>\n",
    "function on one line, and the rest of the sentence of the paragraph using readline on another. Close the file when done."
   ]
  },
  {
   "cell_type": "code",
   "execution_count": null,
   "metadata": {
    "collapsed": true
   },
   "outputs": [],
   "source": [
    "### START CODE HERE ### (≈ 4 lines of code)\n",
    "\n",
    "###END CODE HERE ###"
   ]
  },
  {
   "cell_type": "markdown",
   "metadata": {},
   "source": [
    "__Expected Output__\n",
    "<br>\n",
    "Data scien\n",
    "<br>\n",
    "ce, also known as data-driven science, is an interdisciplinary field of scientific methods, processes, and systems to extract knowledge or insights from data in various forms, either structured or unstructured, similar to data mining.\n"
   ]
  },
  {
   "cell_type": "code",
   "execution_count": null,
   "metadata": {},
   "outputs": [],
   "source": [
    "'''LESSON 2 READING DATA FROM A CSV FILE\n",
    "To read from a CSV file, we will first need to import the CSV module. The process to open a CSV file is the same \n",
    "as with text files as described above. We use the open function with r mode. To read from the file, we need to\n",
    "use functions from the CSV library. csv.reader is a function that takes in a file object as an argument and returns a \n",
    "csv reader object that can be used to read the contents of a csv file. Below is an example of how you would read the \n",
    "contents of a CSV file\n",
    "'''\n",
    "import csv\n",
    "file = open(\"biostats.csv\", 'r') # opening a file and getting a file object. \n",
    "read = csv.reader(file) # reading the file\n",
    "for line in read: \n",
    "    print (line)\n",
    "file.close() # closing the file object \n",
    "\n",
    "#First, we open the file and get a file object using the open function.\n",
    "#Then we get a csv read object using the csv.reader function.\n",
    "#next, we iterate through each line of the file which is contained in the variable read which is a csv.reader object.\n",
    "#In the for loop, the line is printed. Finally, at the end we close the file using close() function.\n",
    "\n",
    "#Here is a link to more information on reading csv files:\n",
    "#http://www.pythonforbeginners.com/systems-programming/using-the-csv-module-in-python/\n"
   ]
  },
  {
   "cell_type": "markdown",
   "metadata": {},
   "source": [
    "__Exercise 2:__ \n",
    "<br>\n",
    "Read and print the first 5 lines of the CSV file, \"biostats.csv\". Hint: There exists a function called next that prints the next line in the CSV file.\n",
    "<br>\n",
    "Example:\n",
    "<br>\n",
    "file = open(\"biostats.csv\") \n",
    "<br>\n",
    "read = csv.reader(file) \n",
    "<br>\n",
    "print (next(read))\n",
    "<br>\n",
    "print(next(read))\n",
    "<br>\n",
    "file.close()\n",
    "<br>\n",
    "<br>\n",
    "The above code prints the first 2 lines of the file.\n"
   ]
  },
  {
   "cell_type": "code",
   "execution_count": null,
   "metadata": {
    "collapsed": true
   },
   "outputs": [],
   "source": [
    "### START CODE HERE ### (≈ 5 lines of code)\n",
    "\n",
    "\n",
    "###END CODE HERE ###"
   ]
  },
  {
   "cell_type": "markdown",
   "metadata": {},
   "source": [
    "__Expected Output:__\n",
    "<br>\n",
    "['Name', '     \"Sex\"', ' \"Age\"', ' \"Height (in)\"', ' \"Weight (lbs)\"']\n",
    "<br>\n",
    "['Alex', '       \"M\"', '   41', '       74', '      170']\n",
    "<br>\n",
    "['Bert', '       \"M\"', '   42', '       68', '      166']\n",
    "<br>\n",
    "['Carl', '       \"M\"', '   32', '       70', '      155']\n",
    "<br>\n",
    "['Dave', '       \"M\"', '   39', '       72', '      167']"
   ]
  },
  {
   "cell_type": "code",
   "execution_count": null,
   "metadata": {},
   "outputs": [],
   "source": [
    "'''LESSON 3 READING DATA FROM A JSON FILE\n",
    "To read from a file with JSON in it, we will first need to import the json module. The process to open the \n",
    "file is the same as usual. You just need to use the open() function. Below is an example of reading the contents of a \n",
    "json file.\n",
    "'''\n",
    "import json\n",
    "fileRead = open(\"read_json.json\", 'r') # opening the json file and retrieving the file object \n",
    "data = json.load(fileRead) # the load function takes in the contents of the file and returns a dictionary\n",
    "print(type(data)) # printing the type of what was returned from json.load\n",
    "print(data) # printing the dictionary\n",
    "\n",
    "fileRead.close()\n",
    "\n",
    "#json.load returns a dictionary file that conforms to the hierarchy of the json data. The file object received from the \n",
    "#open function is given to the function as an arguement. The dictionary object returned from the json.load function has\n",
    "#all of the json data and can be traversed using the same traversing techniques you have learned for dictionaries. \n",
    "\n",
    "#Here is a link to more information on reading json files:\n",
    "#http://developer.rhino3d.com/guides/rhinopython/python-xml-json/\n"
   ]
  },
  {
   "cell_type": "markdown",
   "metadata": {},
   "source": [
    "__Exercise 3:__\n",
    "<br>\n",
    "Read json data from the file \"read_json.json\" and print the value for the key \"title\", using the dictionary returned from the json.load function. "
   ]
  },
  {
   "cell_type": "code",
   "execution_count": null,
   "metadata": {
    "collapsed": true
   },
   "outputs": [],
   "source": [
    "### START CODE HERE ### (≈ 4 lines of code)\n",
    "\n",
    "###END CODE HERE ###"
   ]
  },
  {
   "cell_type": "markdown",
   "metadata": {},
   "source": [
    "__Expected Output:__\n",
    "<br>\n",
    "Person    "
   ]
  },
  {
   "cell_type": "code",
   "execution_count": null,
   "metadata": {},
   "outputs": [],
   "source": [
    "'''LESSON 4 READING XML DATA FROM A FILE\n",
    "To read from a file with XML in it, we will first need to import the ElementTree module from the xml library. The function \n",
    "xml.etree.ElementTree.parse will read in the data from the file and create a dom tree consisting of special variables \n",
    "called Elements. The dom tree is a structure that replicates the structure of the XML data. Here is a link with more \n",
    "information on dom trees:\n",
    "https://www.w3schools.com/xml/dom_intro.asp\n",
    "\n",
    "Now that the tree is made, you can work with the XML data.\n",
    "'''\n",
    "import xml.etree.ElementTree \n",
    "tree = xml.etree.ElementTree.parse('menu.xml') #retrieving the XML from the file\n",
    "root = tree.getroot() # getting the root of the dom tree.\n",
    "print(type(root))\n",
    "print(root.tag) #getting the tag of the root.\n",
    "for child in root: #iterating through the direct children of the root. \n",
    "    print(child.tag)\n",
    "\n",
    "print(root[0][0].text) #in order to go through the hiearchy to get to the child you want, you need to use bracket notation\n",
    "\n",
    "#The xml.etree.ElementTree.parse function takes in the file path as an arguement. An ElementTree object is returned\n",
    "#which basically contains all of the XML data. All that we need to do after this is go through this dom tree and fetch\n",
    "#the data we want. \n",
    "#The tree.getroot() function gets the root of the dom tree. The type of the object returned is an element type which is\n",
    "#what makes up the dom tree.\n",
    "#root.tag gives us the actual xml text of the element object.\n",
    "#The for loop in the example will go through all of the children of the element object root. \"child\" in each iteration \n",
    "#is a child of root and is of type element. In the for loop, we print the tag of each child. \n",
    "#As shown in the last line, we can use bracket notation to go through the dom tree structure. The indices start from 0 \n",
    "#as usual. The .text notation gives us the data between the xml tags. The object calling this .text function must be \n",
    "#of type element. \n",
    "\n",
    "#Here is a link with more information about reading and processing XML data:\n",
    "#https://www.geeksforgeeks.org/xml-parsing-python/\n"
   ]
  },
  {
   "cell_type": "markdown",
   "metadata": {},
   "source": [
    "__Exercise 4:__\n",
    "<br>\n",
    "Given the file \"menu.xml\", read the data in and print out the description for \"French Toast\" and the price for \"Belgian Waffles\"."
   ]
  },
  {
   "cell_type": "code",
   "execution_count": null,
   "metadata": {
    "collapsed": true
   },
   "outputs": [],
   "source": [
    "### START CODE HERE ### (≈ 5 lines of code)\n",
    "\n",
    "###END CODE HERE ###"
   ]
  },
  {
   "cell_type": "markdown",
   "metadata": {},
   "source": [
    "__Expected Output:__\n",
    "<br>\n",
    "$5.95\n",
    "<br>\n",
    "Thick slices made from our homemade sourdough bread"
   ]
  },
  {
   "cell_type": "code",
   "execution_count": null,
   "metadata": {
    "collapsed": true
   },
   "outputs": [],
   "source": [
    "'''LESSON 5 READING AND WORKING WITH LOG FILES\n",
    "Log files contain a lot of good information and can be useful for many things such as knowing the status of a system. \n",
    "Thus, knowing how to work with them can be a useful skill. Here we will go over a basic method of working with log files. \n",
    "Look at the file apache.log. This log was created by an Apache web server and contains information about the\n",
    "HTTP GET requests the server received. The code below reads the file and prints the GET requests.\n",
    "'''\n",
    "fileRead = open(\"apache.log\", 'r') # creating the file object associated with the log\n",
    "for line in fileRead:              # iterating through each line of the file\n",
    "    tokens = line.split(' ')       # spliting each element in the line by space\n",
    "    print(tokens[6])               # printing the get request\n",
    "\n",
    "fileRead.close()\n"
   ]
  },
  {
   "cell_type": "markdown",
   "metadata": {},
   "source": [
    "__Exercise 5:__\n",
    "<br>\n",
    "Write a program to read the file \"apache.log\" and output the number of GET requests made to the server. A line is a GET request if it contains the word \"GET\" in the GET message."
   ]
  },
  {
   "cell_type": "code",
   "execution_count": null,
   "metadata": {
    "collapsed": true
   },
   "outputs": [],
   "source": [
    "### START CODE HERE ### (≈ 7 lines of code)\n",
    "\n",
    "\n",
    "###END CODE HERE ###"
   ]
  },
  {
   "cell_type": "markdown",
   "metadata": {},
   "source": [
    "__Expected Output:__\n",
    "<br>\n",
    "48"
   ]
  },
  {
   "cell_type": "code",
   "execution_count": null,
   "metadata": {
    "collapsed": true
   },
   "outputs": [],
   "source": [
    "'''LESSON 6 ITERATORS AND READING FILES\n",
    "When we open a file we want to read using the open function, we receive a file object. That file object is said to be\n",
    "iterable, or can be considered as an iterator. For example:\n",
    "readFile = open(\"data_science_wiki.txt\", 'r')\n",
    "readFile can be considered iterable because we can use it to go through the whole file. We can go line by line using it. \n",
    "Below is an example that illustrates the concept.\n",
    "'''\n",
    "readFile = open(\"data_science_wiki.txt\", 'r')\n",
    "for line in readFile:\n",
    "    print(line)"
   ]
  }
 ],
 "metadata": {
  "kernelspec": {
   "display_name": "Python 3",
   "language": "python",
   "name": "python3"
  },
  "language_info": {
   "codemirror_mode": {
    "name": "ipython",
    "version": 3
   },
   "file_extension": ".py",
   "mimetype": "text/x-python",
   "name": "python",
   "nbconvert_exporter": "python",
   "pygments_lexer": "ipython3",
   "version": "3.6.3"
  }
 },
 "nbformat": 4,
 "nbformat_minor": 2
}

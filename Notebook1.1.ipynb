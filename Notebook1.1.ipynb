{
 "cells": [
  {
   "cell_type": "markdown",
   "metadata": {
    "collapsed": true
   },
   "source": [
    "## Introduction to Applied Data Science\n",
    "##### © Rashed Iqbal - 2018"
   ]
  },
  {
   "cell_type": "markdown",
   "metadata": {},
   "source": [
    "In the following, you will find Python code lines to perform simple programming operations. After each block, you are invited to write code that will produce the intended (and provided results) to allow you to pratice programming."
   ]
  },
  {
   "cell_type": "code",
   "execution_count": null,
   "metadata": {
    "collapsed": true,
    "scrolled": true
   },
   "outputs": [],
   "source": [
    "#Note before you get started that the version of python is as per our \n",
    "#installation instructions. You may face issues otherwise\n",
    "\n",
    "#example 1.1 : Print a simple text (\"hello World\") and comments in python\n",
    "\n",
    "print(\"Hello World!\")\n",
    "\n",
    "# print(\"Apple\")\n",
    "# Note \"#\" is used for commenting in python\n",
    "# Try printing Apple by uncommenting the print statement above"
   ]
  },
  {
   "cell_type": "markdown",
   "metadata": {},
   "source": [
    "__Exercise 1:__ \n",
    "<br>\n",
    "Between the two start and stop lines below, write code to print *Hello, Introduction to Applied Economics*."
   ]
  },
  {
   "cell_type": "code",
   "execution_count": 4,
   "metadata": {},
   "outputs": [
    {
     "name": "stdout",
     "output_type": "stream",
     "text": [
      "Hello, Introduction to Applied Economics\n"
     ]
    }
   ],
   "source": [
    "### START CODE HERE ### (≈ 1 lines of code)\n",
    "print(\"Hello, Introduction to Applied Economics\")\n",
    "###END CODE HERE ###"
   ]
  },
  {
   "cell_type": "markdown",
   "metadata": {},
   "source": [
    "__Expected Output:__\n",
    "<br>\n",
    "Hello, Introduction to Applied Economics"
   ]
  },
  {
   "cell_type": "code",
   "execution_count": null,
   "metadata": {
    "collapsed": true
   },
   "outputs": [],
   "source": [
    "#Example 2: Variables \n",
    "\n",
    "\n",
    "#Variables are nothing but reserved memory locations to store values\n",
    "#We do not require explicit declarations within python\n",
    "#The equal sign (=) is used to assign values to variables.\n",
    "\n",
    "#Example 2.1 : Variable Assignment \n",
    "counter = 100          # An integer assignment\n",
    "amount  = 1000.1       # A floating point \n",
    "subject    = \"Economics\"       # A string\n",
    "\n",
    "print(counter)\n",
    "print(amount)\n",
    "print(subject)"
   ]
  },
  {
   "cell_type": "markdown",
   "metadata": {},
   "source": [
    "__Exercise 2.1:__\n",
    "<br>\n",
    "Assign the number *2018* to a variable called __*year*__ and the text *Hello* to a variable called __*greeting*__. Print both variables after the assignments."
   ]
  },
  {
   "cell_type": "code",
   "execution_count": 6,
   "metadata": {},
   "outputs": [
    {
     "name": "stdout",
     "output_type": "stream",
     "text": [
      "2018\n",
      "Hello\n"
     ]
    }
   ],
   "source": [
    "### START CODE HERE ### (≈ 4 lines of code)\n",
    "year = 2018\n",
    "greeting = \"Hello\"\n",
    "\n",
    "print(year)\n",
    "print(greeting)\n",
    "###END CODE HERE ###"
   ]
  },
  {
   "cell_type": "markdown",
   "metadata": {},
   "source": [
    "__Expected Output:__\n",
    "<br>\n",
    "2018\n",
    "<br>\n",
    "Hello"
   ]
  },
  {
   "cell_type": "code",
   "execution_count": null,
   "metadata": {
    "collapsed": true
   },
   "outputs": [],
   "source": [
    "#Example 2.2: Assign a value of 10 to a variable 'ap'. Print the value of 'ap'\n",
    "ap = 10\n",
    "print(ap)\n",
    "#change the value of ap to 30. Print the value of 'ap'\n",
    "ap = 30\n",
    "print(ap)"
   ]
  },
  {
   "cell_type": "markdown",
   "metadata": {},
   "source": [
    "__Exercise 2.2:__\n",
    "<br>\n",
    "Create a variable called __*name*__ with the value \"John\". Print the variable __*name*__. \n",
    "<br>\n",
    "Then, reassign __*name*__ to the value \"Sam\". Print the variable __*name*__ again. "
   ]
  },
  {
   "cell_type": "code",
   "execution_count": 7,
   "metadata": {},
   "outputs": [
    {
     "name": "stdout",
     "output_type": "stream",
     "text": [
      "John\n",
      "Sam\n"
     ]
    }
   ],
   "source": [
    "### START CODE HERE ### (≈ 4 lines of code)\n",
    "name = \"John\"\n",
    "print(name)\n",
    "\n",
    "name = \"Sam\"\n",
    "print(name)\n",
    "###END CODE HERE ###"
   ]
  },
  {
   "cell_type": "markdown",
   "metadata": {},
   "source": [
    "__Expected Output:__\n",
    "<br>\n",
    "John\n",
    "<br>\n",
    "Sam"
   ]
  },
  {
   "cell_type": "code",
   "execution_count": null,
   "metadata": {
    "collapsed": true
   },
   "outputs": [],
   "source": [
    "#Example 2.3: Assign a value of 10 to a variable 'ap'. Print the value of 'ap'\n",
    "ap = 10\n",
    "print(ap)\n",
    "#change the value of 'ap' to a string value of apple. Print the value of 'ap'\n",
    "#think - can the same variable hold different data types? will this give an error?\n",
    "ap = \"apple\"\n",
    "print(ap)\n",
    "# More on data types later"
   ]
  },
  {
   "cell_type": "markdown",
   "metadata": {},
   "source": [
    "__Exercise 2.3:__\n",
    "<br>\n",
    "Create a variable called __*fruit*__ with the value \"grape\". Print the value of __*fruit*__.\n",
    "<br>\n",
    "Next, assign the float 9.5 to __*fruit*__. Finally, print the value of __*fruit*__."
   ]
  },
  {
   "cell_type": "code",
   "execution_count": 1,
   "metadata": {},
   "outputs": [
    {
     "name": "stdout",
     "output_type": "stream",
     "text": [
      "grape\n",
      "9.5\n"
     ]
    }
   ],
   "source": [
    "### START CODE HERE ### (≈ 4 lines of code)\n",
    "fruit = \"grape\"\n",
    "print(fruit)\n",
    "\n",
    "fruit = 9.5\n",
    "print(fruit)\n",
    "###END CODE HERE ###"
   ]
  },
  {
   "cell_type": "markdown",
   "metadata": {},
   "source": [
    "__Expected Output:__\n",
    "<br>\n",
    "grape\n",
    "<br>\n",
    "9.5"
   ]
  },
  {
   "cell_type": "code",
   "execution_count": null,
   "metadata": {
    "collapsed": true
   },
   "outputs": [],
   "source": [
    "#Example 2.4 : Multiple Assignment \n",
    "# Python allows you to assign a single value to several variables simultaneously\n",
    "\n",
    "#Assign the value of 5 to variables a,b,c simultaneously \n",
    "a = b = c = 5\n",
    "\n",
    "#Print the value of all variables\n",
    "print(a)\n",
    "print(b)\n",
    "print(c)"
   ]
  },
  {
   "cell_type": "markdown",
   "metadata": {},
   "source": [
    "__Exercise 2.4:__\n",
    "<br>\n",
    "Assign the float 12.3 to the variables __*num1*__ and __*num2*__, simultaneously. Then, print both variables."
   ]
  },
  {
   "cell_type": "code",
   "execution_count": 2,
   "metadata": {},
   "outputs": [
    {
     "name": "stdout",
     "output_type": "stream",
     "text": [
      "12.3\n",
      "12.3\n"
     ]
    }
   ],
   "source": [
    "### START CODE HERE ### (≈ 3 lines of code)\n",
    "num1 = num2 = 12.3\n",
    "print(num1)\n",
    "print(num2)\n",
    "###END CODE HERE ###"
   ]
  },
  {
   "cell_type": "markdown",
   "metadata": {},
   "source": [
    "__Expected Output:__\n",
    "<br>\n",
    "12.3\n",
    "<br>\n",
    "12.3"
   ]
  },
  {
   "cell_type": "code",
   "execution_count": 9,
   "metadata": {},
   "outputs": [
    {
     "name": "stdout",
     "output_type": "stream",
     "text": [
      "Hello World!\n",
      "H\n",
      "llo\n",
      "Hello World!Hello World!Hello World!\n",
      "Hello World!How are you\n",
      "Hello World!string concatenation example\n"
     ]
    }
   ],
   "source": [
    "#Example 3: Data Types\n",
    "# Python has five standard data types\n",
    "# Numbers, Strings, List, Tuple , Dictonary \n",
    "\n",
    "\n",
    "#Example 3.1: String Type \n",
    "strExmp = 'Hello World!'\n",
    "all = \"string concatenation example\"\n",
    "\n",
    "# Print complete string (strExmp)\n",
    "print(strExmp) \n",
    "# Print first character of the string\n",
    "print(strExmp[0])  \n",
    " # Print characters starting from 3rd to 5th\n",
    "print(strExmp[2:5]) #splicing 2:start at here, 5: end at here but not taking that one\n",
    "# Print string three times\n",
    "print(strExmp * 3)   \n",
    "# Print concatenated string\n",
    "print(strExmp + \"How are you\") \n",
    "# print the concatenated two string variables (strExmp and all)\n",
    "print(strExmp + all)"
   ]
  },
  {
   "cell_type": "markdown",
   "metadata": {},
   "source": [
    "__Exercise 3.1__\n",
    "<br>\n",
    "You are given 2 variables called __*firstName*__ and __*lastName*__. Using these variables, complete the following tasks.\n",
    "<br>\n",
    "A) Print the variable __*firstName*__.\n",
    "<br>\n",
    "B) Print the 3rd character of __*firstName*__.\n",
    "<br>\n",
    "C) Print the first 4 characters of __*lastName*__.\n",
    "<br>\n",
    "D) Print __*lastName*__ 2 times using a single print statement.\n",
    "<br>\n",
    "E) Print __*firstName*__ followed by a space followed by __*lastName*__ using a single print statement.\n",
    "<br>"
   ]
  },
  {
   "cell_type": "code",
   "execution_count": 5,
   "metadata": {},
   "outputs": [
    {
     "name": "stdout",
     "output_type": "stream",
     "text": [
      "Jennifer\n",
      "n\n",
      "Smit\n",
      "SmithSmith\n",
      "Jennifer Smith\n"
     ]
    }
   ],
   "source": [
    "firstName = \"Jennifer\"\n",
    "lastName = \"Smith\"\n",
    "### START CODE HERE ### (≈ 5 lines of code)\n",
    "\n",
    "#do task A here\n",
    "print(firstName)\n",
    "#do task B here\n",
    "print(firstName[2])\n",
    "#do task C here\n",
    "print(lastName[0:4])\n",
    "#do task D here\n",
    "print(lastName * 2)\n",
    "#do task E here\n",
    "print(firstName,lastName)\n",
    "\n",
    "###END CODE HERE ###"
   ]
  },
  {
   "cell_type": "markdown",
   "metadata": {},
   "source": [
    "__Expected Output:__\n",
    "<br>\n",
    "Jennifer\n",
    "<br>\n",
    "n\n",
    "<br>\n",
    "Smit\n",
    "<br>\n",
    "SmithSmith\n",
    "<br>\n",
    "Jennifer Smith"
   ]
  },
  {
   "cell_type": "code",
   "execution_count": 6,
   "metadata": {},
   "outputs": [
    {
     "name": "stdout",
     "output_type": "stream",
     "text": [
      "['Apple', 4, 4.0, 'Orange', 77, 82]\n",
      "Apple\n",
      "[4, 4.0]\n",
      "[4.0, 'Orange', 77, 82]\n",
      "[100, 'Mango', 100, 100, 'Mango', 100]\n",
      "['Apple', 4, 4.0, 'Orange', 77, 82, 100, 'Mango', 100]\n",
      "['Cat', 4, 4.0, 'Orange', 77, 82]\n",
      "[100, 'Mango', 100, 'Cool']\n",
      "['Mango', 100, 'Cool']\n"
     ]
    }
   ],
   "source": [
    "#Example 3.2: List Type \n",
    "\n",
    "exmList1 = [ 'Apple', 4 , 4.0, 'Orange', 77, 82 ]\n",
    "exmpList2 = [100, 'Mango',100]\n",
    "\n",
    "# Print complete list exmList1\n",
    "print(exmList1)   \n",
    "# Print first element of the list\n",
    "print(exmList1[0]) \n",
    "#Print elements starting from 2nd till 3rd \n",
    "print(exmList1[1:3])    \n",
    "# Print elements starting from 3rd element\n",
    "print(exmList1[2:])   \n",
    "# Prints list two times (exmpList2)\n",
    "print(exmpList2 * 2) \n",
    "# Print concatenated lists (exmList1 and exmpList2)\n",
    "print(exmList1 + exmpList2)\n",
    "\n",
    "#update exmList1 1st value to 'Cat' and print it\n",
    "exmList1[0] = 'Cat'\n",
    "print(exmList1)\n",
    "\n",
    "#Add a new value - 'Cool' to exmpList2 and print it\n",
    "exmpList2.append('Cool')\n",
    "print(exmpList2)\n",
    "\n",
    "#remove the value 1 from exmpList2\n",
    "exmpList2.remove(100)\n",
    "print(exmpList2)\n",
    "#Note the first occurance of the value is removed and not all \n",
    "\n",
    "\n",
    "#Try playing around with other list functions : sort, reverse, index , counts"
   ]
  },
  {
   "cell_type": "markdown",
   "metadata": {},
   "source": [
    "__Exercise 3.2:__\n",
    "<br>\n",
    "You are given 2 lists called __*numbers*__ and __*fruits*__. Complete the following tasks using these lists.\n",
    "<br>\n",
    "A) Print the list __*numbers*__.\n",
    "<br>\n",
    "B) Print the sorted version of the list __*numbers*__, using the *sort* list function.\n",
    "<br>\n",
    "C) Print the number of elements in the __*numbers*__ list using the *len* function.\n",
    "<br>\n",
    "D) Print the last 3 elements in the __*fruit*__ list.\n",
    "<br>\n",
    "E) Print the number of times \"apple\" appears in the __*fruit*__ list.\n",
    "<br>\n",
    "F) Substitute the element \"watermelon\" in the __*fruits*__ list with \"melon\". Print the __*fruits*__ list after the substitution."
   ]
  },
  {
   "cell_type": "code",
   "execution_count": 60,
   "metadata": {
    "scrolled": true
   },
   "outputs": [
    {
     "name": "stdout",
     "output_type": "stream",
     "text": [
      "[11, 4, 5, 9, 7, 21, 100, 54]\n",
      "[4, 5, 7, 9, 11, 21, 54, 100]\n",
      "8\n",
      "['watermelon', 'apple']\n",
      "2\n",
      "['banana', 'apple', 'grapes', 'melon', 'apple', 'kiwi']\n"
     ]
    }
   ],
   "source": [
    "numbers = [11, 4, 5, 9, 7, 21, 100, 54]\n",
    "fruits = [\"banana\", \"apple\", \"grapes\", \"watermelon\", \"apple\", \"kiwi\"]\n",
    "\n",
    "### START CODE HERE ### (≈ 7 lines of code)\n",
    "\n",
    "#do task A here\n",
    "print(numbers)\n",
    "#do task B here\n",
    "print(sorted(numbers))\n",
    "#do task C here\n",
    "print(len(numbers))\n",
    "#do task D here\n",
    "print(fruits[3:5])\n",
    "#do task E here\n",
    "print(fruits.count(\"apple\"))\n",
    "#do task F here\n",
    "fruits[3] = 'melon'\n",
    "print(fruits)\n",
    "\n",
    "###END CODE HERE ###"
   ]
  },
  {
   "cell_type": "markdown",
   "metadata": {},
   "source": [
    "__Expected Output:__\n",
    "<br>\n",
    "[11, 4, 5, 9, 7, 21, 100, 54]\n",
    "<br>\n",
    "[4, 5, 7, 9, 11, 21, 54, 100]\n",
    "<br>\n",
    "8\n",
    "<br>\n",
    "[\"watermelon\", \"apple\", \"kiwi\"]\n",
    "<br>\n",
    "2\n",
    "<br>\n",
    "[\"banana\", \"apple\", \"grapes\", \"melon\", \"apple\", \"kiwi\"]"
   ]
  },
  {
   "cell_type": "code",
   "execution_count": 55,
   "metadata": {},
   "outputs": [
    {
     "name": "stdout",
     "output_type": "stream",
     "text": [
      "('Apple', 4, 4.0, 'Orange', 77, 82)\n",
      "Apple\n",
      "(4, 4.0)\n",
      "(4.0, 'Orange', 77, 82)\n",
      "(100, 'Mango', 100, 100, 'Mango', 100)\n",
      "('Apple', 4, 4.0, 'Orange', 77, 82, 100, 'Mango', 100)\n"
     ]
    }
   ],
   "source": [
    "#Example 3.3 : Tuple Type \n",
    "#Tuples can be thought of as read-only lists. i.e. They cannot be updated\n",
    "\n",
    "tupleExmp = ( 'Apple', 4 , 4.0, 'Orange', 77, 82 )\n",
    "tupleExmp2 = (100, 'Mango',100)\n",
    "\n",
    "# Print complete list (tupleExmp)\n",
    "print(tupleExmp) \n",
    "# Print first element of the list\n",
    "print(tupleExmp[0])  \n",
    " # Print elements starting from 2nd till 3rd \n",
    "print(tupleExmp[1:3])     \n",
    " # Print elements starting from 3rd element\n",
    "print(tupleExmp[2:]) \n",
    "# Print list two times (tupleExmp2)\n",
    "print(tupleExmp2 * 2)  \n",
    "# Print concatenated lists (tupleExmp2, tupleExmp)\n",
    "print(tupleExmp + tupleExmp2) \n",
    "\n",
    "# Trying updating a tuple and see if you get an error"
   ]
  },
  {
   "cell_type": "markdown",
   "metadata": {},
   "source": [
    "__Exercise 3.3:__\n",
    "<br>\n",
    "Complete the following tasks to practice using tuples.\n",
    "<br>\n",
    "A) Create a tuple called __*myTuple*__ with the elements 9.5, \"hello\", 10, and \"world\", in that order.\n",
    "<br>\n",
    "B) Print __*myTuple*__.\n",
    "<br>\n",
    "C) Print the second and third elements of __*myTuple*__.\n",
    "<br>\n",
    "D) Print the number of elements in __*myTuple*__."
   ]
  },
  {
   "cell_type": "code",
   "execution_count": 7,
   "metadata": {},
   "outputs": [
    {
     "name": "stdout",
     "output_type": "stream",
     "text": [
      "(9.5, 'hello', 10, 'world')\n",
      "('hello', 10)\n",
      "4\n"
     ]
    }
   ],
   "source": [
    "### START CODE HERE ### (≈ 4 lines of code)\n",
    "\n",
    "#do task A here\n",
    "myTuple = (9.5, \"hello\", 10, \"world\")\n",
    "#do task B here\n",
    "print(myTuple)\n",
    "#do task C here\n",
    "print(myTuple[1:3])\n",
    "#do task D here\n",
    "print(len(myTuple))\n",
    "\n",
    "###END CODE HERE ###"
   ]
  },
  {
   "cell_type": "markdown",
   "metadata": {},
   "source": [
    "__Expected Output:__\n",
    "<br>\n",
    "(9.5, \"hello\", 10, \"world\")\n",
    "<br>\n",
    "(\"hello\", 10)\n",
    "<br>\n",
    "4"
   ]
  },
  {
   "cell_type": "code",
   "execution_count": 8,
   "metadata": {},
   "outputs": [
    {
     "name": "stdout",
     "output_type": "stream",
     "text": [
      "This is one\n",
      "This is two\n",
      "{'name': 'john', 'code': 6734, 'dept': 'sales'}\n",
      "dict_keys(['name', 'code', 'dept'])\n",
      "dict_values(['john', 6734, 'sales'])\n"
     ]
    }
   ],
   "source": [
    "# Example 3.4 : Dictonary Type \n",
    "dictExp = {}\n",
    "dictExp['one'] = \"This is one\"\n",
    "dictExp[2]     = \"This is two\"\n",
    "\n",
    "dictExp2 = {'name': 'john','code':6734, 'dept': 'sales'}\n",
    "\n",
    "#Print the value for the key 'one' in dictExp\n",
    "print(dictExp['one'])  \n",
    "#Print the value for the key 2 in dict\n",
    "print(dictExp[2])    \n",
    "# Print complete dictionary - dictExp2\n",
    "print(dictExp2)\n",
    "# Print all the keys for dictExp2\n",
    "print(dictExp2.keys())  \n",
    "# Print all the values for dictExp2\n",
    "print(dictExp2.values())"
   ]
  },
  {
   "cell_type": "markdown",
   "metadata": {},
   "source": [
    "__Exercise 3.4:__\n",
    "<br>\n",
    "Complete the following tasks to practice using dictionaries.\n",
    "<br>\n",
    "A) Create a dictionary called student that contains these key/value pairs: \n",
    "<br>\n",
    "&nbsp;&nbsp;&nbsp;&nbsp;&nbsp;&nbsp;&nbsp;&nbsp;&nbsp;&nbsp;&nbsp;&nbsp;key = \"name\", value = \"Sam\"\n",
    "<br>\n",
    "&nbsp;&nbsp;&nbsp;&nbsp;&nbsp;&nbsp;&nbsp;&nbsp;&nbsp;&nbsp;&nbsp;&nbsp;key = \"age\", value = 21\n",
    "<br>\n",
    "&nbsp;&nbsp;&nbsp;&nbsp;&nbsp;&nbsp;&nbsp;&nbsp;&nbsp;&nbsp;&nbsp;&nbsp;key = \"id\", value = 9893\n",
    "<br>\n",
    "&nbsp;&nbsp;&nbsp;&nbsp;&nbsp;&nbsp;&nbsp;&nbsp;&nbsp;&nbsp;&nbsp;&nbsp;key = \"major\", value = \"economics\"\n",
    "<br>\n",
    "&nbsp;&nbsp;&nbsp;&nbsp;&nbsp;&nbsp;&nbsp;&nbsp;&nbsp;&nbsp;&nbsp;&nbsp;key = \"units\", value = 16\n",
    "<br>\n",
    "B) Print the dictionary __*student*__.\n",
    "<br>\n",
    "C) Print all of the keys in __*student*__.\n",
    "<br>\n",
    "D) Print the number of keys in __*student*__.\n",
    "<br>\n",
    "E) Print the value associated with the key \"major\"."
   ]
  },
  {
   "cell_type": "code",
   "execution_count": 15,
   "metadata": {},
   "outputs": [
    {
     "name": "stdout",
     "output_type": "stream",
     "text": [
      "{'name': 'Sam', 'age': '21', 'id': '9893', 'major': 'economics', 'units': '16'}\n",
      "dict_keys(['name', 'age', 'id', 'major', 'units'])\n",
      "5\n",
      "economics\n"
     ]
    }
   ],
   "source": [
    "### START CODE HERE ### (≈ 5 lines of code)\n",
    "\n",
    "#do task A here\n",
    "student = {}\n",
    "student[\"name\"] = \"Sam\"\n",
    "student[\"age\"] = \"21\"\n",
    "student[\"id\"] = \"9893\"\n",
    "student[\"major\"] = \"economics\"\n",
    "student[\"units\"] = \"16\"\n",
    "#do task B here\n",
    "print(student)\n",
    "#do task C here\n",
    "print(student.keys())\n",
    "#do task D here\n",
    "print(len(student.keys()))\n",
    "#do task E here\n",
    "print(student[\"major\"])\n",
    "\n",
    "###END CODE HERE ###"
   ]
  },
  {
   "cell_type": "markdown",
   "metadata": {},
   "source": [
    "__Expected Output:__\n",
    "<br>\n",
    "{'units': 16, 'age': 21, 'major': 'economics', 'name': 'Sam', 'id': '9893'}\n",
    "<br>\n",
    "['units', 'age', 'major', 'name', 'id']\n",
    "<br>\n",
    "5\n",
    "<br>\n",
    "economics\n"
   ]
  },
  {
   "cell_type": "code",
   "execution_count": 1,
   "metadata": {},
   "outputs": [
    {
     "name": "stdout",
     "output_type": "stream",
     "text": [
      "a+b : 30\n",
      "a-b : -10\n",
      "a*b : 200\n",
      "a/b : 0.5\n",
      "a%b : 10\n",
      "2 to the power 4 : 16\n"
     ]
    }
   ],
   "source": [
    "#Example 4 : Arithmetic Operations \n",
    "a = 10\n",
    "b = 20\n",
    "\n",
    "#Example 4.1 : Addition\n",
    "print(\"a+b :\",a+b)\n",
    "\n",
    "#Example 4.2: Subtraction\n",
    "print(\"a-b :\",a-b)\n",
    "\n",
    "#Example 4.3: Multiplication\n",
    "print(\"a*b :\",a*b)\n",
    "\n",
    "#Example 4.4 : Division\n",
    "print(\"a/b :\",a/b)\n",
    "\n",
    "#Example 4.5 : Modulus\n",
    "print(\"a%b :\", a%b)\n",
    "\n",
    "#Example 4.6 : Exponent\n",
    "print(\"2 to the power 4 :\" ,2**4)"
   ]
  },
  {
   "cell_type": "markdown",
   "metadata": {},
   "source": [
    "__Exercise 4:__\n",
    "<br>\n",
    "Perform the following operations using the variables __*x*__ and __*y*__. All of the tasks can be done without declaring additional variables.\n",
    "<br>\n",
    "A) Print the result of $x^{2}$ + $y^{2}$.\n",
    "<br>\n",
    "B) Print the result of (x % y) * 2.\n",
    "<br>\n",
    "C) Print the result of (y / x) - 1."
   ]
  },
  {
   "cell_type": "code",
   "execution_count": 5,
   "metadata": {},
   "outputs": [
    {
     "name": "stdout",
     "output_type": "stream",
     "text": [
      "74\n",
      "4\n",
      "-0.2857142857142857\n"
     ]
    }
   ],
   "source": [
    "x = 7\n",
    "y = 5\n",
    "### START CODE HERE ### (≈ 3 lines of code)\n",
    "\n",
    "#do task A here\n",
    "print(x**2 + y**2)\n",
    "#do task B here\n",
    "print((x % y) * 2)\n",
    "#do task C here\n",
    "print((y / x) - 1)\n",
    "\n",
    "###END CODE HERE ###"
   ]
  },
  {
   "cell_type": "markdown",
   "metadata": {},
   "source": [
    "__Expected Output:__\n",
    "<br>\n",
    "74\n",
    "<br>\n",
    "4\n",
    "<br>\n",
    "-1"
   ]
  },
  {
   "cell_type": "code",
   "execution_count": 6,
   "metadata": {},
   "outputs": [
    {
     "name": "stdout",
     "output_type": "stream",
     "text": [
      "a==b :  False\n",
      "a==c : True\n",
      "a!=b : True\n",
      "a!=c : False\n",
      "a>c : False\n",
      "a>=c : True\n",
      "a<b : True\n"
     ]
    }
   ],
   "source": [
    "#Example 5 : Comparision Operators\n",
    "a = 10\n",
    "b = 20\n",
    "c = 10\n",
    "\n",
    "#Example 5.1 : ==\n",
    "print(\"a==b : \", a==b)\n",
    "print(\"a==c :\",a==c) \n",
    "\n",
    "#Example 5.2: !=\n",
    "print(\"a!=b :\",a!=b)\n",
    "print(\"a!=c :\", a!=c)\n",
    "\n",
    "#Example 5.3 : Greater than, less than, greather than equal to\n",
    "print(\"a>c :\", (a>c))\n",
    "print(\"a>=c :\", a>=c)\n",
    "print(\"a<b :\", a<b)"
   ]
  },
  {
   "cell_type": "markdown",
   "metadata": {
    "collapsed": true
   },
   "source": [
    "__Exercise 5:__\n",
    "<br>\n",
    "Complete the following tasks to get some practice with comparison operators.\n",
    "<br>\n",
    "A) Print the result of checking to see if __*strOne*__ and __*strTwo*__ are equal in value.\n",
    "<br>\n",
    "B) Print the result of checking to see if __*numOne*__ is less than __*numTwo*__. \n",
    "<br>\n",
    "C) Print the result of checking to see if __*numOne*__ is greater than or equal to __*numTwo*__. "
   ]
  },
  {
   "cell_type": "code",
   "execution_count": 10,
   "metadata": {},
   "outputs": [
    {
     "name": "stdout",
     "output_type": "stream",
     "text": [
      "False\n",
      "False\n",
      "True\n"
     ]
    }
   ],
   "source": [
    "strOne = \"June\"\n",
    "strTwo = \"July\"\n",
    "\n",
    "numOne = 4\n",
    "numTwo = 4\n",
    "\n",
    "### START CODE HERE ### (≈ 3 lines of code)\n",
    "\n",
    "#do task A here\n",
    "print(strOne == strTwo)\n",
    "#do task B here\n",
    "print(numOne < numTwo) \n",
    "#do task C here\n",
    "print(numOne >= numTwo)\n",
    "\n",
    "###END CODE HERE ###"
   ]
  },
  {
   "cell_type": "markdown",
   "metadata": {},
   "source": [
    "__Expected Output:__\n",
    "<br>\n",
    "False\n",
    "<br>\n",
    "False\n",
    "<br>\n",
    "True"
   ]
  },
  {
   "cell_type": "code",
   "execution_count": 11,
   "metadata": {},
   "outputs": [
    {
     "name": "stdout",
     "output_type": "stream",
     "text": [
      "2\n"
     ]
    }
   ],
   "source": [
    "a = \"apple\"\n",
    "\n",
    "a = 2\n",
    "print(a)"
   ]
  },
  {
   "cell_type": "code",
   "execution_count": 12,
   "metadata": {},
   "outputs": [
    {
     "name": "stdout",
     "output_type": "stream",
     "text": [
      "0\n",
      "1\n",
      "2\n",
      "0\n"
     ]
    }
   ],
   "source": [
    "i = 0\n",
    "while i < 3:\n",
    "          print(i)\n",
    "          i += 1\n",
    "else:\n",
    "          print(0)"
   ]
  },
  {
   "cell_type": "code",
   "execution_count": 13,
   "metadata": {},
   "outputs": [
    {
     "name": "stdout",
     "output_type": "stream",
     "text": [
      "1\n",
      "Hello\n",
      "2\n"
     ]
    }
   ],
   "source": [
    "i = 1\n",
    "while i < 3:\n",
    "          if i%2 == 0:\n",
    "                    print(\"Hello\")\n",
    "          print(i)\n",
    "          i = i + 1 "
   ]
  },
  {
   "cell_type": "code",
   "execution_count": 14,
   "metadata": {},
   "outputs": [
    {
     "ename": "TypeError",
     "evalue": "'in <string>' requires string as left operand, not int",
     "output_type": "error",
     "traceback": [
      "\u001b[1;31m---------------------------------------------------------------------------\u001b[0m",
      "\u001b[1;31mTypeError\u001b[0m                                 Traceback (most recent call last)",
      "\u001b[1;32m<ipython-input-14-57bf75fd63cf>\u001b[0m in \u001b[0;36m<module>\u001b[1;34m()\u001b[0m\n\u001b[0;32m      1\u001b[0m \u001b[0mx\u001b[0m \u001b[1;33m=\u001b[0m \u001b[1;34m\"abcdef\"\u001b[0m\u001b[1;33m;\u001b[0m\u001b[1;33m\u001b[0m\u001b[0m\n\u001b[1;32m----> 2\u001b[1;33m \u001b[1;32mwhile\u001b[0m \u001b[0mi\u001b[0m \u001b[1;32min\u001b[0m \u001b[0mx\u001b[0m\u001b[1;33m:\u001b[0m\u001b[1;33m\u001b[0m\u001b[0m\n\u001b[0m\u001b[0;32m      3\u001b[0m           \u001b[0mprint\u001b[0m\u001b[1;33m(\u001b[0m\u001b[0mi\u001b[0m\u001b[1;33m,\u001b[0m \u001b[0mend\u001b[0m\u001b[1;33m=\u001b[0m\u001b[1;34m\" \"\u001b[0m\u001b[1;33m)\u001b[0m\u001b[1;33m\u001b[0m\u001b[0m\n",
      "\u001b[1;31mTypeError\u001b[0m: 'in <string>' requires string as left operand, not int"
     ]
    }
   ],
   "source": [
    "x = \"abcdef\";\n",
    "while i in x:\n",
    "          print(i, end=\" \")"
   ]
  },
  {
   "cell_type": "code",
   "execution_count": 15,
   "metadata": {},
   "outputs": [
    {
     "name": "stdout",
     "output_type": "stream",
     "text": [
      "3\n",
      "4\n"
     ]
    }
   ],
   "source": [
    "x = 2\n",
    "for i in range(x):\n",
    "          x += 1\n",
    "          print (x)"
   ]
  },
  {
   "cell_type": "code",
   "execution_count": 16,
   "metadata": {},
   "outputs": [
    {
     "name": "stdout",
     "output_type": "stream",
     "text": [
      "4\n"
     ]
    }
   ],
   "source": [
    "def printSum(b, a = 1):\n",
    "          print(a+b)\n",
    "printSum(b = 3)"
   ]
  },
  {
   "cell_type": "code",
   "execution_count": 18,
   "metadata": {
    "collapsed": true
   },
   "outputs": [],
   "source": [
    "def printFruit(*args):\n",
    "          counter = 1\n",
    "          for arg in args:\n",
    "                    if counter >= 3:\n",
    "                              return \n",
    "                    else:\n",
    "                              print(arg)\n",
    "                    counter = counter + 1\n",
    "                    printFruit(\"Apple\",  \"Orange\", \"Mango\" , \"Grape\") "
   ]
  },
  {
   "cell_type": "code",
   "execution_count": null,
   "metadata": {
    "collapsed": true
   },
   "outputs": [],
   "source": []
  }
 ],
 "metadata": {
  "anaconda-cloud": {},
  "kernelspec": {
   "display_name": "Python 3",
   "language": "python",
   "name": "python3"
  },
  "language_info": {
   "codemirror_mode": {
    "name": "ipython",
    "version": 3
   },
   "file_extension": ".py",
   "mimetype": "text/x-python",
   "name": "python",
   "nbconvert_exporter": "python",
   "pygments_lexer": "ipython3",
   "version": "3.6.3"
  }
 },
 "nbformat": 4,
 "nbformat_minor": 1
}

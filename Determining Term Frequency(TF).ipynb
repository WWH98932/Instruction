{
 "cells": [
  {
   "cell_type": "markdown",
   "metadata": {
    "collapsed": true
   },
   "source": [
    "### Determining Term Frequency Leading to TF-IDF\n",
    "\n",
    "###### CNN By Steve Almasy and Amanda Jackson \n",
    "###### Updated 12:57 AM ET, Wed February 14, 2018 \n",
    "https://www.cnn.com/2018/02/13/us/hawaii-united-emergency-landing/index.html \n",
    "\n",
    "A United flight made an emergency landing in Honolulu on Tuesday after a piece of the cover came off the plane's right engine, United spokesman Charles Hobart said. Scariest flight of my life, passenger Maria Falaschi tweeted. The incident occurred less than an hour before United Airlines flight 1175 was set to land in Honolulu. The plane was flying over the Pacific Ocean from San Francisco. Passenger Erik Haddad recorded video of the engine as the plane flew over the Pacific. That looks bad, plane and simple, he wrote on Twitter describing the sight of pieces of metal missing from the front of the engine cowling. Hobart said the pilots safely landed the aircraft at Daniel K. Inouye International Airport, taxied to the gate, and the passengers got off the plane as they normally would. There were 363 passengers and 10 crew members aboard the plane, CNN affiliate KHNL reported. The Boeing 777 is powered by Pratt & Whitney's PW4000-112 inch engines, the engine's manufacturer said. Pratt & Whitney is supporting the authorities in their investigation, the company said in a statement."
   ]
  },
  {
   "cell_type": "code",
   "execution_count": 29,
   "metadata": {
    "collapsed": true
   },
   "outputs": [],
   "source": [
    "input=\"A United flight made an emergency landing in Honolulu on Tuesday after a piece of the cover came off the plane's right engine, United spokesman Charles Hobart said. Scariest flight of my life, passenger Maria Falaschi tweeted. The incident occurred less than an hour before United Airlines flight 1175 was set to land in Honolulu. The plane was flying over the Pacific Ocean from San Francisco. Passenger Erik Haddad recorded video of the engine as the plane flew over the Pacific. That looks bad, plane and simple, he wrote on Twitter describing the sight of pieces of metal missing from the front of the engine cowling. Hobart said the pilots safely landed the aircraft at Daniel K. Inouye International Airport, taxied to the gate, and the passengers got off the plane as they normally would. There were 363 passengers and 10 crew members aboard the plane, CNN affiliate KHNL reported. The Boeing 777 is powered by Pratt & Whitney's PW4000-112 inch engines, the engine's manufacturer said. Pratt & Whitney is supporting the authorities in their investigation, the company said in a statement.\""
   ]
  },
  {
   "cell_type": "code",
   "execution_count": 97,
   "metadata": {
    "collapsed": true
   },
   "outputs": [],
   "source": [
    "props = \"& my less than there were then is a and that as he an was the with at from into during including until against among throughout despite towards upon concerning of to in for on by about like through over before between after since without under within along following across behind beyond plus except but up out around down off above near\"\n",
    "proplist = props.split()"
   ]
  },
  {
   "cell_type": "code",
   "execution_count": 98,
   "metadata": {
    "collapsed": true
   },
   "outputs": [],
   "source": [
    "inputlower = input.lower()"
   ]
  },
  {
   "cell_type": "code",
   "execution_count": 99,
   "metadata": {
    "collapsed": true
   },
   "outputs": [],
   "source": [
    "inputlist = [w for w in inputlower.split() if w not in proplist]"
   ]
  },
  {
   "cell_type": "code",
   "execution_count": 100,
   "metadata": {},
   "outputs": [
    {
     "name": "stdout",
     "output_type": "stream",
     "text": [
      "Items in input list 114\n",
      "\n",
      "['united', 'flight', 'made', 'emergency', 'landing', 'honolulu', 'tuesday', 'piece', 'cover', 'came', \"plane's\", 'right', 'engine,', 'united', 'spokesman', 'charles', 'hobart', 'said.', 'scariest', 'flight', 'life,', 'passenger', 'maria', 'falaschi', 'tweeted.', 'incident', 'occurred', 'hour', 'united', 'airlines', 'flight', '1175', 'set', 'land', 'honolulu.', 'plane', 'flying', 'pacific', 'ocean', 'san', 'francisco.', 'passenger', 'erik', 'haddad', 'recorded', 'video', 'engine', 'plane', 'flew', 'pacific.', 'looks', 'bad,', 'plane', 'simple,', 'wrote', 'twitter', 'describing', 'sight', 'pieces', 'metal', 'missing', 'front', 'engine', 'cowling.', 'hobart', 'said', 'pilots', 'safely', 'landed', 'aircraft', 'daniel', 'k.', 'inouye', 'international', 'airport,', 'taxied', 'gate,', 'passengers', 'got', 'plane', 'they', 'normally', 'would.', '363', 'passengers', '10', 'crew', 'members', 'aboard', 'plane,', 'cnn', 'affiliate', 'khnl', 'reported.', 'boeing', '777', 'powered', 'pratt', \"whitney's\", 'pw4000-112', 'inch', 'engines,', \"engine's\", 'manufacturer', 'said.', 'pratt', 'whitney', 'supporting', 'authorities', 'their', 'investigation,', 'company', 'said', 'statement.']\n"
     ]
    }
   ],
   "source": [
    "print(\"Items in input list\", len(inputlist))\n",
    "print()\n",
    "print(inputlist)"
   ]
  },
  {
   "cell_type": "code",
   "execution_count": 101,
   "metadata": {},
   "outputs": [
    {
     "name": "stdout",
     "output_type": "stream",
     "text": [
      "Unique items in input list 100\n",
      "\n",
      "{'bad,', 'land', 'sight', '1175', 'came', 'they', 'scariest', 'safely', 'boeing', 'occurred', 'plane,', 'affiliate', 'piece', 'got', 'ocean', 'falaschi', 'honolulu.', 'would.', 'inouye', 'powered', 'wrote', 'pilots', 'life,', 'engine', 'aboard', 'right', 'passengers', 'honolulu', 'khnl', 'pieces', 'daniel', 'pratt', 'landing', 'missing', 'pacific', 'tuesday', 'incident', 'members', 'metal', 'flew', 'video', 'statement.', 'engine,', 'front', 'airlines', 'said', 'flight', 'aircraft', 'recorded', 'airport,', 'supporting', 'passenger', 'plane', 'describing', 'cnn', 'company', 'twitter', 'normally', \"engine's\", 'emergency', 'landed', 'said.', 'their', 'k.', 'pw4000-112', 'investigation,', 'haddad', 'crew', 'cover', 'united', 'tweeted.', 'flying', \"whitney's\", 'pacific.', 'made', 'san', 'engines,', 'cowling.', 'reported.', \"plane's\", 'gate,', 'authorities', 'whitney', 'simple,', 'looks', 'charles', 'spokesman', 'maria', 'erik', 'francisco.', 'international', 'manufacturer', 'taxied', '363', 'hour', '10', '777', 'inch', 'set', 'hobart'}\n"
     ]
    }
   ],
   "source": [
    "inputset = set(inputlist)\n",
    "print(\"Unique items in input list\",len(inputset))\n",
    "print()\n",
    "print(inputset)"
   ]
  },
  {
   "cell_type": "code",
   "execution_count": 102,
   "metadata": {
    "collapsed": true
   },
   "outputs": [],
   "source": [
    "count = [0] * len(inputlist)  "
   ]
  },
  {
   "cell_type": "code",
   "execution_count": 103,
   "metadata": {
    "collapsed": true
   },
   "outputs": [],
   "source": [
    "tf = dict(zip(inputset, count))"
   ]
  },
  {
   "cell_type": "code",
   "execution_count": 104,
   "metadata": {},
   "outputs": [
    {
     "name": "stdout",
     "output_type": "stream",
     "text": [
      "{'bad,': 0, 'land': 0, 'sight': 0, '1175': 0, 'came': 0, 'they': 0, 'scariest': 0, 'safely': 0, 'boeing': 0, 'occurred': 0, 'plane,': 0, 'affiliate': 0, 'piece': 0, 'got': 0, 'ocean': 0, 'falaschi': 0, 'honolulu.': 0, 'would.': 0, 'inouye': 0, 'powered': 0, 'wrote': 0, 'pilots': 0, 'life,': 0, 'engine': 0, 'aboard': 0, 'right': 0, 'passengers': 0, 'honolulu': 0, 'khnl': 0, 'pieces': 0, 'daniel': 0, 'pratt': 0, 'landing': 0, 'missing': 0, 'pacific': 0, 'tuesday': 0, 'incident': 0, 'members': 0, 'metal': 0, 'flew': 0, 'video': 0, 'statement.': 0, 'engine,': 0, 'front': 0, 'airlines': 0, 'said': 0, 'flight': 0, 'aircraft': 0, 'recorded': 0, 'airport,': 0, 'supporting': 0, 'passenger': 0, 'plane': 0, 'describing': 0, 'cnn': 0, 'company': 0, 'twitter': 0, 'normally': 0, \"engine's\": 0, 'emergency': 0, 'landed': 0, 'said.': 0, 'their': 0, 'k.': 0, 'pw4000-112': 0, 'investigation,': 0, 'haddad': 0, 'crew': 0, 'cover': 0, 'united': 0, 'tweeted.': 0, 'flying': 0, \"whitney's\": 0, 'pacific.': 0, 'made': 0, 'san': 0, 'engines,': 0, 'cowling.': 0, 'reported.': 0, \"plane's\": 0, 'gate,': 0, 'authorities': 0, 'whitney': 0, 'simple,': 0, 'looks': 0, 'charles': 0, 'spokesman': 0, 'maria': 0, 'erik': 0, 'francisco.': 0, 'international': 0, 'manufacturer': 0, 'taxied': 0, '363': 0, 'hour': 0, '10': 0, '777': 0, 'inch': 0, 'set': 0, 'hobart': 0}\n"
     ]
    }
   ],
   "source": [
    "print(tf)"
   ]
  },
  {
   "cell_type": "code",
   "execution_count": 105,
   "metadata": {
    "collapsed": true
   },
   "outputs": [],
   "source": [
    "for i in range(len(inputlist)):\n",
    "    s = inputlist[i]\n",
    "    tf[s] += 1"
   ]
  },
  {
   "cell_type": "code",
   "execution_count": 106,
   "metadata": {},
   "outputs": [
    {
     "name": "stdout",
     "output_type": "stream",
     "text": [
      "{'bad,': 1, 'land': 1, 'sight': 1, '1175': 1, 'came': 1, 'they': 1, 'scariest': 1, 'safely': 1, 'boeing': 1, 'occurred': 1, 'plane,': 1, 'affiliate': 1, 'piece': 1, 'got': 1, 'ocean': 1, 'falaschi': 1, 'honolulu.': 1, 'would.': 1, 'inouye': 1, 'powered': 1, 'wrote': 1, 'pilots': 1, 'life,': 1, 'engine': 2, 'aboard': 1, 'right': 1, 'passengers': 2, 'honolulu': 1, 'khnl': 1, 'pieces': 1, 'daniel': 1, 'pratt': 2, 'landing': 1, 'missing': 1, 'pacific': 1, 'tuesday': 1, 'incident': 1, 'members': 1, 'metal': 1, 'flew': 1, 'video': 1, 'statement.': 1, 'engine,': 1, 'front': 1, 'airlines': 1, 'said': 2, 'flight': 3, 'aircraft': 1, 'recorded': 1, 'airport,': 1, 'supporting': 1, 'passenger': 2, 'plane': 4, 'describing': 1, 'cnn': 1, 'company': 1, 'twitter': 1, 'normally': 1, \"engine's\": 1, 'emergency': 1, 'landed': 1, 'said.': 2, 'their': 1, 'k.': 1, 'pw4000-112': 1, 'investigation,': 1, 'haddad': 1, 'crew': 1, 'cover': 1, 'united': 3, 'tweeted.': 1, 'flying': 1, \"whitney's\": 1, 'pacific.': 1, 'made': 1, 'san': 1, 'engines,': 1, 'cowling.': 1, 'reported.': 1, \"plane's\": 1, 'gate,': 1, 'authorities': 1, 'whitney': 1, 'simple,': 1, 'looks': 1, 'charles': 1, 'spokesman': 1, 'maria': 1, 'erik': 1, 'francisco.': 1, 'international': 1, 'manufacturer': 1, 'taxied': 1, '363': 1, 'hour': 1, '10': 1, '777': 1, 'inch': 1, 'set': 1, 'hobart': 2}\n"
     ]
    }
   ],
   "source": [
    "print(tf)"
   ]
  },
  {
   "cell_type": "code",
   "execution_count": 107,
   "metadata": {},
   "outputs": [
    {
     "name": "stdout",
     "output_type": "stream",
     "text": [
      "plane : 4\n",
      "flight : 3\n",
      "united : 3\n",
      "engine : 2\n",
      "passengers : 2\n",
      "pratt : 2\n",
      "said : 2\n",
      "passenger : 2\n",
      "said. : 2\n",
      "hobart : 2\n",
      "bad, : 1\n",
      "land : 1\n",
      "sight : 1\n",
      "1175 : 1\n",
      "came : 1\n",
      "they : 1\n",
      "scariest : 1\n",
      "safely : 1\n",
      "boeing : 1\n",
      "occurred : 1\n",
      "plane, : 1\n",
      "affiliate : 1\n",
      "piece : 1\n",
      "got : 1\n",
      "ocean : 1\n",
      "falaschi : 1\n",
      "honolulu. : 1\n",
      "would. : 1\n",
      "inouye : 1\n",
      "powered : 1\n",
      "wrote : 1\n",
      "pilots : 1\n",
      "life, : 1\n",
      "aboard : 1\n",
      "right : 1\n",
      "honolulu : 1\n",
      "khnl : 1\n",
      "pieces : 1\n",
      "daniel : 1\n",
      "landing : 1\n",
      "missing : 1\n",
      "pacific : 1\n",
      "tuesday : 1\n",
      "incident : 1\n",
      "members : 1\n",
      "metal : 1\n",
      "flew : 1\n",
      "video : 1\n",
      "statement. : 1\n",
      "engine, : 1\n",
      "front : 1\n",
      "airlines : 1\n",
      "aircraft : 1\n",
      "recorded : 1\n",
      "airport, : 1\n",
      "supporting : 1\n",
      "describing : 1\n",
      "cnn : 1\n",
      "company : 1\n",
      "twitter : 1\n",
      "normally : 1\n",
      "engine's : 1\n",
      "emergency : 1\n",
      "landed : 1\n",
      "their : 1\n",
      "k. : 1\n",
      "pw4000-112 : 1\n",
      "investigation, : 1\n",
      "haddad : 1\n",
      "crew : 1\n",
      "cover : 1\n",
      "tweeted. : 1\n",
      "flying : 1\n",
      "whitney's : 1\n",
      "pacific. : 1\n",
      "made : 1\n",
      "san : 1\n",
      "engines, : 1\n",
      "cowling. : 1\n",
      "reported. : 1\n",
      "plane's : 1\n",
      "gate, : 1\n",
      "authorities : 1\n",
      "whitney : 1\n",
      "simple, : 1\n",
      "looks : 1\n",
      "charles : 1\n",
      "spokesman : 1\n",
      "maria : 1\n",
      "erik : 1\n",
      "francisco. : 1\n",
      "international : 1\n",
      "manufacturer : 1\n",
      "taxied : 1\n",
      "363 : 1\n",
      "hour : 1\n",
      "10 : 1\n",
      "777 : 1\n",
      "inch : 1\n",
      "set : 1\n"
     ]
    }
   ],
   "source": [
    "from operator import itemgetter\n",
    "for k, v in sorted(tf.items(), key=itemgetter(1), reverse=True):\n",
    "    print(k, \":\", v)"
   ]
  }
 ],
 "metadata": {
  "kernelspec": {
   "display_name": "Python 3",
   "language": "python",
   "name": "python3"
  },
  "language_info": {
   "codemirror_mode": {
    "name": "ipython",
    "version": 3
   },
   "file_extension": ".py",
   "mimetype": "text/x-python",
   "name": "python",
   "nbconvert_exporter": "python",
   "pygments_lexer": "ipython3",
   "version": "3.6.3"
  }
 },
 "nbformat": 4,
 "nbformat_minor": 2
}

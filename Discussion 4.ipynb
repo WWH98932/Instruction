{
 "cells": [
  {
   "cell_type": "markdown",
   "metadata": {},
   "source": [
    "Python Exceptions"
   ]
  },
  {
   "cell_type": "markdown",
   "metadata": {},
   "source": [
    "- Is a method of handling runtime errors. Rather than the default always happening which is to print an error and end the program, exception handling allows us to customize the events that happen after an error.\n",
    "<br>\n",
    "Examples of Errors:\n",
    "<br>\n",
    "<br>\n",
    "IOError\n",
    "<br>\n",
    "If the file cannot be opened.\n",
    "<br>\n",
    "<br>\n",
    "ImportError\n",
    "<br>\n",
    "If python cannot find the module\n",
    "<br>\n",
    "<br>\n"
   ]
  },
  {
   "cell_type": "code",
   "execution_count": null,
   "metadata": {},
   "outputs": [],
   "source": [
    "#try:\n",
    "    #Write some code here\n",
    "#except:\n",
    "    #exception handling\n",
    "    \n",
    "try:\n",
    "    print (1/0)\n",
    "\n",
    "except Exception:\n",
    "    print (\"Cant divide by zero\")\n"
   ]
  },
  {
   "cell_type": "code",
   "execution_count": null,
   "metadata": {},
   "outputs": [],
   "source": [
    "myList = [2, 6]\n",
    "\n",
    "print (myList[4])"
   ]
  },
  {
   "cell_type": "code",
   "execution_count": null,
   "metadata": {},
   "outputs": [],
   "source": [
    "def hello():\n",
    "    print(\"Hello\")\n",
    "\n",
    "try:\n",
    "    myList = [2, 6]\n",
    "    print (myList[4])\n",
    "\n",
    "except Exception:\n",
    "    print (\"Cant divide by zero\")\n",
    "    hello()"
   ]
  },
  {
   "cell_type": "markdown",
   "metadata": {},
   "source": [
    "Basics Of SQL "
   ]
  },
  {
   "cell_type": "markdown",
   "metadata": {},
   "source": [
    "- Creating a database\n",
    "<br>\n",
    "sqlite3 {name of db}\n",
    "<br>\n",
    "Example: sqlite3 test.db"
   ]
  },
  {
   "cell_type": "markdown",
   "metadata": {},
   "source": [
    "- Creating a table\n",
    "<br>\n",
    "CREATE TABLE {table name} {elements in table>};\n",
    "<br>\n",
    ".tables command will list out all of the tables in the database\n",
    "<br>\n",
    "Example: CREATE TABLE students (name varchar(20) , id int, major varchar(20));"
   ]
  },
  {
   "cell_type": "markdown",
   "metadata": {},
   "source": [
    "- Importing Data\n",
    "<br>\n",
    ".import {data file} {table to add data to}\n",
    "<br>\n",
    ".separator \",\"\n",
    "<br>\n",
    ".import studentinfo.csv students"
   ]
  },
  {
   "cell_type": "markdown",
   "metadata": {},
   "source": [
    "- Inserting into a table\n",
    "<br>\n",
    "INSERT INTO {table name} {element} VALUES {data}\n",
    "<br>\n",
    "Example: INSERT INTO students (name, id , major) VALUES (\"Jack\", 11, \"Computer Science\");"
   ]
  },
  {
   "cell_type": "markdown",
   "metadata": {},
   "source": [
    "- SELECT STATEMENTS\n",
    "<br>\n",
    "SELECT {columns} FROM {table} WHERE {conditions}\n",
    "<br>\n",
    "SELECT name FROM students;\n",
    "<br>\n",
    "SELECT \\* FROM students WHERE major = \" Computer Science\";\n",
    "<br>\n",
    "SELECT \\* FROM students WHERE name = \"John\" AND id = 5;\n",
    "<br>\n",
    "SELECT COUNT(*) FROM students;"
   ]
  },
  {
   "cell_type": "markdown",
   "metadata": {},
   "source": [
    "Exercise 1: Find the number of Economics students in the database using SQL.\n",
    "<br>\n",
    "Exercise 2: Find the sum of all the ids in the database using SQL."
   ]
  },
  {
   "cell_type": "markdown",
   "metadata": {},
   "source": [
    "The NumPy Library"
   ]
  },
  {
   "cell_type": "code",
   "execution_count": null,
   "metadata": {
    "collapsed": true
   },
   "outputs": [],
   "source": [
    "import numpy as np"
   ]
  },
  {
   "cell_type": "code",
   "execution_count": null,
   "metadata": {},
   "outputs": [],
   "source": [
    "arr1 = np.array([6,7,90])\n",
    "print (arr1) "
   ]
  },
  {
   "cell_type": "code",
   "execution_count": null,
   "metadata": {},
   "outputs": [],
   "source": [
    "mat = np.arange(20).reshape(4, 5)\n",
    "print (mat)"
   ]
  },
  {
   "cell_type": "code",
   "execution_count": null,
   "metadata": {},
   "outputs": [],
   "source": [
    "print (arr1.shape)\n",
    "print (mat.shape)"
   ]
  },
  {
   "cell_type": "code",
   "execution_count": null,
   "metadata": {},
   "outputs": [],
   "source": [
    "zeroes = np.zeros( (2,5) )\n",
    "print (zeroes)\n",
    "print (zeroes.shape)\n",
    "\n",
    "zeroes[0][3] = 5\n",
    "print(zeroes)"
   ]
  },
  {
   "cell_type": "code",
   "execution_count": null,
   "metadata": {},
   "outputs": [],
   "source": [
    "print (2 * mat)"
   ]
  },
  {
   "cell_type": "code",
   "execution_count": null,
   "metadata": {},
   "outputs": [],
   "source": [
    "a = np.array([2,4,6])\n",
    "b = np.array([3,5,7])\n",
    "print (a + b)\n",
    "print (a * b)"
   ]
  },
  {
   "cell_type": "code",
   "execution_count": null,
   "metadata": {},
   "outputs": [],
   "source": [
    "c = np.array( [[1,1], [0,1]] )\n",
    "print(c)\n",
    "print()\n",
    "d = np.array( [[2,0], [3,4]] )\n",
    "print(d)\n",
    "print()\n",
    "print(c.dot(d))"
   ]
  }
 ],
 "metadata": {
  "kernelspec": {
   "display_name": "Python 3",
   "language": "python",
   "name": "python3"
  },
  "language_info": {
   "codemirror_mode": {
    "name": "ipython",
    "version": 3
   },
   "file_extension": ".py",
   "mimetype": "text/x-python",
   "name": "python",
   "nbconvert_exporter": "python",
   "pygments_lexer": "ipython3",
   "version": "3.6.3"
  }
 },
 "nbformat": 4,
 "nbformat_minor": 2
}

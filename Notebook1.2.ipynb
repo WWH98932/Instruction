{
 "cells": [
  {
   "cell_type": "code",
   "execution_count": 3,
   "metadata": {},
   "outputs": [
    {
     "name": "stdout",
     "output_type": "stream",
     "text": [
      "Apple found\n",
      "Hello\n"
     ]
    }
   ],
   "source": [
    "#Example 1.1: Decision Statements - if\n",
    "#Supppose you need to print values based on a particular condition\n",
    "# For eg :A the variable can hold the name of a fruit. If the value is apple. You need to print apple found.\n",
    "# For this we use if statement \n",
    "\n",
    "fruit = 'apple'\n",
    "if(fruit == 'apple'):\n",
    "    print('Apple found')\n",
    "print('Hello')\n",
    "\n",
    "#Now try changing the value of fruit and see if the print statement is executed\n",
    "#Note: the print statement is indented\n",
    "#Python provides no braces to indicate blocks of code.\n",
    "#Blocks of code are denoted by line indentation, which is rigidly enforced.\n",
    "#All statements within the block must be indented the same amount.\n",
    "\n",
    "#To understand this better see the next example"
   ]
  },
  {
   "cell_type": "markdown",
   "metadata": {},
   "source": [
    "__Exercise 1.1:__\n",
    "<br>\n",
    "Write an if statement that prints \"Hello World\" if the value of __*num*__ is not equal to 5."
   ]
  },
  {
   "cell_type": "code",
   "execution_count": 8,
   "metadata": {},
   "outputs": [
    {
     "name": "stdout",
     "output_type": "stream",
     "text": [
      "Hello World\n"
     ]
    }
   ],
   "source": [
    "num = 7\n",
    "### START CODE HERE ### (≈ 2 lines of code)\n",
    "if(num == 5):\n",
    "    print()\n",
    "print('Hello World')\n",
    "###END CODE HERE ###"
   ]
  },
  {
   "cell_type": "markdown",
   "metadata": {},
   "source": [
    "__Expected Output:__\n",
    "<br>\n",
    "Hello World"
   ]
  },
  {
   "cell_type": "code",
   "execution_count": 3,
   "metadata": {},
   "outputs": [
    {
     "name": "stdout",
     "output_type": "stream",
     "text": [
      "Hello\n"
     ]
    }
   ],
   "source": [
    "#Example 1.2  : Indentation and white space\n",
    "fruit = 'appl'\n",
    "if(fruit == 'apple'):\n",
    "    print('Apple found')\n",
    "print('Hello')\n",
    "#Note the second print statement is executed because\n",
    "#it is not in the block of statements for if\n"
   ]
  },
  {
   "cell_type": "markdown",
   "metadata": {},
   "source": [
    "__Exercise 1.2:__\n",
    "<br>\n",
    "Write an if statement that prints \"Hello World\" if the value of __*myStr*__ is equal to \"John\". In addition, print \"Goodbye\", regardless of what the value of __*myStr*__ is. "
   ]
  },
  {
   "cell_type": "code",
   "execution_count": 9,
   "metadata": {},
   "outputs": [
    {
     "name": "stdout",
     "output_type": "stream",
     "text": [
      "Goodbye\n"
     ]
    }
   ],
   "source": [
    "myStr = \"Henry\" \n",
    "### START CODE HERE ### (≈ 3 lines of code)\n",
    "if(myStr == 'John'):\n",
    "    print('Hello World')\n",
    "print('Goodbye')\n",
    "###END CODE HERE ###"
   ]
  },
  {
   "cell_type": "markdown",
   "metadata": {},
   "source": [
    "__Expected Output:__\n",
    "<br>\n",
    "Goodbye"
   ]
  },
  {
   "cell_type": "code",
   "execution_count": 5,
   "metadata": {},
   "outputs": [
    {
     "name": "stdout",
     "output_type": "stream",
     "text": [
      "Apple not found\n"
     ]
    }
   ],
   "source": [
    "#Example 1.3: Suppose in the example above we want to print 'apple not found',\n",
    "#if the fruit is not apple. We use Else statement\n",
    "\n",
    "if(fruit == 'apple'):\n",
    "    print('Apple found')\n",
    "else:\n",
    "    print('Apple not found')"
   ]
  },
  {
   "cell_type": "markdown",
   "metadata": {},
   "source": [
    "__Exercise 1.3:__\n",
    "<br>\n",
    "Add an else statement to the code below that causes \"num equals 5\" to be printed."
   ]
  },
  {
   "cell_type": "code",
   "execution_count": 12,
   "metadata": {},
   "outputs": [
    {
     "name": "stdout",
     "output_type": "stream",
     "text": [
      "num equals 5\n"
     ]
    }
   ],
   "source": [
    "num = 5\n",
    "\n",
    "if(num != 5):\n",
    "    print(\"num does not equal 5\")\n",
    "### START CODE HERE ### (≈ 2 lines of code)\n",
    "else:\n",
    "    print('num equals 5')\n",
    "###END CODE HERE ###\n"
   ]
  },
  {
   "cell_type": "markdown",
   "metadata": {},
   "source": [
    "__Expected Output:__\n",
    "<br>\n",
    "num equals 5"
   ]
  },
  {
   "cell_type": "code",
   "execution_count": 7,
   "metadata": {},
   "outputs": [
    {
     "name": "stdout",
     "output_type": "stream",
     "text": [
      "200\n"
     ]
    }
   ],
   "source": [
    "#Example 1.4: Imagine we are calculating the tax for a person.\n",
    "#As we know there can be different tax slabs\n",
    "#for this we use elif \n",
    "\n",
    "salary = 10000\n",
    "tax = 0.0\n",
    "if(salary < 10000):\n",
    "    tax = 100\n",
    "elif(salary >= 10000 and salary <20000):   \n",
    "    tax = 200\n",
    "elif(salary >= 20000 and salary < 30000):\n",
    "    tax = 300\n",
    "else:\n",
    "    tax = 400\n",
    " \n",
    "print(tax)\n",
    "\n",
    "#try changing the value for salary and see what the tax is calculated as"
   ]
  },
  {
   "cell_type": "markdown",
   "metadata": {},
   "source": [
    "__Exercise 1.4:__\n",
    "<br>\n",
    "Add an elif statement to the code below so that the text \"x equals 100\" is printed if __*x*__ equals 100."
   ]
  },
  {
   "cell_type": "code",
   "execution_count": 15,
   "metadata": {},
   "outputs": [
    {
     "name": "stdout",
     "output_type": "stream",
     "text": [
      "x equals 100\n"
     ]
    }
   ],
   "source": [
    "x = 100\n",
    "\n",
    "if(x < 100):\n",
    "    print(\"x is less than 100\")\n",
    "\n",
    "### START CODE HERE ### (≈ 2 lines of code)\n",
    "elif(x == 100):\n",
    "    print(\"x equals 100\")\n",
    "###END CODE HERE ###\n",
    "\n",
    "else:\n",
    "    print(\"x is greater than 100\")\n"
   ]
  },
  {
   "cell_type": "markdown",
   "metadata": {},
   "source": [
    "__Expected Output:__\n",
    "<br>\n",
    "x equals 100"
   ]
  },
  {
   "cell_type": "code",
   "execution_count": 9,
   "metadata": {},
   "outputs": [
    {
     "name": "stdout",
     "output_type": "stream",
     "text": [
      "apple\n",
      "apple\n",
      "apple\n",
      "apple\n",
      "apple\n"
     ]
    }
   ],
   "source": [
    "# Example 2 : Loops\n",
    "# Loops are repetition structures. For example if we need to print 'apple' 5 times.\n",
    "# We can use 5 print statements for this as below:\n",
    "\n",
    "print('apple')\n",
    "print('apple')\n",
    "print('apple')\n",
    "print('apple')\n",
    "print('apple')\n",
    "\n",
    "#or we can use loops. In the example below we will use a for and while loop to do the same."
   ]
  },
  {
   "cell_type": "code",
   "execution_count": 10,
   "metadata": {},
   "outputs": [
    {
     "name": "stdout",
     "output_type": "stream",
     "text": [
      "apple\n",
      "apple\n",
      "apple\n",
      "apple\n",
      "apple\n"
     ]
    }
   ],
   "source": [
    "#Example 2.1: For loop\n",
    "for num in range(0,5):\n",
    "    print('apple')"
   ]
  },
  {
   "cell_type": "markdown",
   "metadata": {},
   "source": [
    "__Exercise 2.1:__\n",
    "<br>\n",
    "Write a for loop that prints \"UCLA\" 3 times, each on its own line."
   ]
  },
  {
   "cell_type": "code",
   "execution_count": 16,
   "metadata": {},
   "outputs": [
    {
     "name": "stdout",
     "output_type": "stream",
     "text": [
      "UCLA\n",
      "UCLA\n",
      "UCLA\n"
     ]
    }
   ],
   "source": [
    "### START CODE HERE ### (≈ 2 lines of code)\n",
    "for num in range(0,3):\n",
    "    print('UCLA')\n",
    "###END CODE HERE ###"
   ]
  },
  {
   "cell_type": "markdown",
   "metadata": {},
   "source": [
    "__Expected Output:__\n",
    "<br>\n",
    "UCLA\n",
    "<br>\n",
    "UCLA\n",
    "<br>\n",
    "UCLA"
   ]
  },
  {
   "cell_type": "code",
   "execution_count": 12,
   "metadata": {},
   "outputs": [
    {
     "name": "stdout",
     "output_type": "stream",
     "text": [
      "1\n",
      "2\n",
      "3\n",
      "4\n",
      "5\n",
      "6\n",
      "7\n",
      "8\n",
      "9\n",
      "10\n"
     ]
    }
   ],
   "source": [
    "#Example 2.2 : Print numbers from 1 to 10 using for loop\n",
    "for num in range(1,11):\n",
    "    print(num)"
   ]
  },
  {
   "cell_type": "markdown",
   "metadata": {},
   "source": [
    "__Exercise 2.2:__\n",
    "<br>\n",
    "Print the numbers from 10 to 15 (inclusive) each on its own line, using a for loop."
   ]
  },
  {
   "cell_type": "code",
   "execution_count": 18,
   "metadata": {},
   "outputs": [
    {
     "name": "stdout",
     "output_type": "stream",
     "text": [
      "10\n",
      "11\n",
      "12\n",
      "13\n",
      "14\n",
      "15\n"
     ]
    }
   ],
   "source": [
    "### START CODE HERE ### (≈ 2 lines of code)\n",
    "for num in range(10,16):\n",
    "    print(num)\n",
    "###END CODE HERE ###"
   ]
  },
  {
   "cell_type": "markdown",
   "metadata": {},
   "source": [
    "__Expected Output:__\n",
    "<br>\n",
    "10\n",
    "<br>\n",
    "11\n",
    "<br>\n",
    "12\n",
    "<br>\n",
    "13\n",
    "<br>\n",
    "14\n",
    "<br>\n",
    "15"
   ]
  },
  {
   "cell_type": "code",
   "execution_count": 14,
   "metadata": {},
   "outputs": [
    {
     "name": "stdout",
     "output_type": "stream",
     "text": [
      "apple\n",
      "apple\n",
      "apple\n",
      "apple\n",
      "apple\n"
     ]
    }
   ],
   "source": [
    "# example 2.3: We will do the same things using a while loop now\n",
    "num = 0\n",
    "while(num < 5):\n",
    "    print('apple')\n",
    "    num = num +1"
   ]
  },
  {
   "cell_type": "markdown",
   "metadata": {},
   "source": [
    "__Exercise 2.3:__\n",
    "<br>\n",
    "Write a while loop that prints \"UCLA\" 3 times, each on its own line (similar to exercise 2.1)."
   ]
  },
  {
   "cell_type": "code",
   "execution_count": 20,
   "metadata": {},
   "outputs": [
    {
     "name": "stdout",
     "output_type": "stream",
     "text": [
      "UCLA\n",
      "UCLA\n",
      "UCLA\n"
     ]
    }
   ],
   "source": [
    "### START CODE HERE ### (≈ 4 lines of code)\n",
    "num = 0\n",
    "while(num < 3):\n",
    "    print('UCLA')\n",
    "    num = num +1\n",
    "###END CODE HERE ###"
   ]
  },
  {
   "cell_type": "markdown",
   "metadata": {},
   "source": [
    "__Expected Output:__\n",
    "<br>\n",
    "UCLA\n",
    "<br>\n",
    "UCLA\n",
    "<br>\n",
    "UCLA"
   ]
  },
  {
   "cell_type": "code",
   "execution_count": 16,
   "metadata": {},
   "outputs": [
    {
     "name": "stdout",
     "output_type": "stream",
     "text": [
      "1\n",
      "2\n",
      "3\n",
      "4\n",
      "5\n",
      "6\n",
      "7\n",
      "8\n",
      "9\n",
      "10\n"
     ]
    }
   ],
   "source": [
    "# example 2.4: while loop : print the numbers 1 to 10\n",
    "num = 1\n",
    "while(num <= 10):\n",
    "    print(num)\n",
    "    num = num +1"
   ]
  },
  {
   "cell_type": "markdown",
   "metadata": {},
   "source": [
    "__Exercise 2.4:__\n",
    "<br>\n",
    "Print the numbers from 10 to 15 (inclusive) each on its own line, using a __while__ loop."
   ]
  },
  {
   "cell_type": "code",
   "execution_count": 21,
   "metadata": {},
   "outputs": [
    {
     "name": "stdout",
     "output_type": "stream",
     "text": [
      "10\n",
      "11\n",
      "12\n",
      "13\n",
      "14\n",
      "15\n"
     ]
    }
   ],
   "source": [
    "### START CODE HERE ### (≈ 4 lines of code)\n",
    "num = 10\n",
    "while(num <= 15):\n",
    "    print(num)\n",
    "    num = num +1\n",
    "###END CODE HERE ###"
   ]
  },
  {
   "cell_type": "markdown",
   "metadata": {},
   "source": [
    "__Expected Output:__\n",
    "<br>\n",
    "10\n",
    "<br>\n",
    "11\n",
    "<br>\n",
    "12\n",
    "<br>\n",
    "13\n",
    "<br>\n",
    "14\n",
    "<br>\n",
    "15"
   ]
  },
  {
   "cell_type": "code",
   "execution_count": 18,
   "metadata": {},
   "outputs": [
    {
     "name": "stdout",
     "output_type": "stream",
     "text": [
      "1\n",
      "2\n",
      "3\n",
      "4\n",
      "5\n",
      "6\n",
      "7\n",
      "8\n",
      "9\n",
      "10\n",
      "we are outside!\n"
     ]
    }
   ],
   "source": [
    "# example 2.5 : we can use else statements with while loops\n",
    "num = 1\n",
    "while(num <= 10):\n",
    "    print(num)\n",
    "    num = num +1\n",
    "else:\n",
    "    print('we are outside!')"
   ]
  },
  {
   "cell_type": "markdown",
   "metadata": {},
   "source": [
    "__Exercise 2.5:__\n",
    "<br>\n",
    "Change the condition of the while loop so that the loop executes __0__ times."
   ]
  },
  {
   "cell_type": "code",
   "execution_count": 23,
   "metadata": {},
   "outputs": [
    {
     "name": "stdout",
     "output_type": "stream",
     "text": [
      "The loop is done\n"
     ]
    }
   ],
   "source": [
    "num = 10\n",
    "while (num > 10):\n",
    "    print(\"Hello\")\n",
    "    num = num - 1\n",
    "else:\n",
    "    print(\"The loop is done\")"
   ]
  },
  {
   "cell_type": "markdown",
   "metadata": {},
   "source": [
    "__Expected Output:__\n",
    "<br>\n",
    "The loop is done"
   ]
  },
  {
   "cell_type": "code",
   "execution_count": 24,
   "metadata": {},
   "outputs": [
    {
     "name": "stdout",
     "output_type": "stream",
     "text": [
      "John\n",
      "Sue\n",
      "Karen\n",
      "Adian\n"
     ]
    }
   ],
   "source": [
    "# example 2.6 : Use for loop while iterating over a list\n",
    "names = ['John', 'Sue','Karen','Adian']\n",
    "for index in range(len(names)):\n",
    "    print(names[index])"
   ]
  },
  {
   "cell_type": "markdown",
   "metadata": {},
   "source": [
    "__Exercise 2.6:__\n",
    "<br>\n",
    "Write a for loop that iterates through and prints all of the numbers in the list, each on its own line."
   ]
  },
  {
   "cell_type": "code",
   "execution_count": 25,
   "metadata": {},
   "outputs": [
    {
     "name": "stdout",
     "output_type": "stream",
     "text": [
      "10\n",
      "20\n",
      "30\n",
      "40\n",
      "50\n"
     ]
    }
   ],
   "source": [
    "nums = [10, 20, 30, 40, 50]\n",
    "\n",
    "### START CODE HERE ### (≈ 2 lines of code)\n",
    "for index in range(len(nums)):\n",
    "    print(nums[index])\n",
    "###END CODE HERE ###"
   ]
  },
  {
   "cell_type": "markdown",
   "metadata": {},
   "source": [
    "__Expected Output:__\n",
    "<br>\n",
    "10\n",
    "<br>\n",
    "20\n",
    "<br>\n",
    "30\n",
    "<br>\n",
    "40\n",
    "<br>\n",
    "50"
   ]
  },
  {
   "cell_type": "code",
   "execution_count": 22,
   "metadata": {},
   "outputs": [
    {
     "name": "stdout",
     "output_type": "stream",
     "text": [
      "A\n",
      "p\n",
      "p\n",
      "l\n",
      "e\n"
     ]
    }
   ],
   "source": [
    "# example 2.7 : use for loop to print the letters in a string\n",
    "for letter in 'Apple':     \n",
    "   print(letter)"
   ]
  },
  {
   "cell_type": "markdown",
   "metadata": {},
   "source": [
    "__Exercise 2.7:__\n",
    "<br>\n",
    "Write a for loop that prints each character of the string __*greeting*__ on its own line."
   ]
  },
  {
   "cell_type": "code",
   "execution_count": 26,
   "metadata": {},
   "outputs": [
    {
     "name": "stdout",
     "output_type": "stream",
     "text": [
      "h\n",
      "e\n",
      "l\n",
      "l\n",
      "o\n"
     ]
    }
   ],
   "source": [
    "greeting = \"hello\"\n",
    "### START CODE HERE ### (≈ 2 lines of code)\n",
    "for letter in greeting:\n",
    "    print(letter)\n",
    "###END CODE HERE ###"
   ]
  },
  {
   "cell_type": "markdown",
   "metadata": {},
   "source": [
    "__Expected Output:__\n",
    "<br>\n",
    "h\n",
    "<br>\n",
    "e\n",
    "<br>\n",
    "l\n",
    "<br>\n",
    "l\n",
    "<br>\n",
    "o"
   ]
  },
  {
   "cell_type": "code",
   "execution_count": 27,
   "metadata": {},
   "outputs": [
    {
     "name": "stdout",
     "output_type": "stream",
     "text": [
      "1\n",
      "22\n",
      "333\n",
      "4444\n",
      "55555\n",
      "666666\n",
      "7777777\n",
      "88888888\n",
      "999999999\n"
     ]
    }
   ],
   "source": [
    "#Example 3.1: Nested Loops\n",
    "count = 1\n",
    "for i in range(1,10):\n",
    "    for j in range(1, i+1):\n",
    "        print(i, end='')\n",
    "    print()"
   ]
  },
  {
   "cell_type": "markdown",
   "metadata": {},
   "source": [
    "__Exercise 3.1:__\n",
    "<br>\n",
    "Use nested for loops to print the numbers in the list __*nums*__, 5 times. Each time you print the list, make sure all the elements are on the same line."
   ]
  },
  {
   "cell_type": "code",
   "execution_count": 33,
   "metadata": {},
   "outputs": [
    {
     "name": "stdout",
     "output_type": "stream",
     "text": [
      "123\n",
      "123\n",
      "123\n",
      "123\n",
      "123\n"
     ]
    }
   ],
   "source": [
    "nums = [1,2,3]\n",
    "### START CODE HERE ### (≈ 4 lines of code)\n",
    "for i in range(1,6):\n",
    "    for j in nums:\n",
    "        print(j, end='')\n",
    "    print()\n",
    "###END CODE HERE ###"
   ]
  },
  {
   "cell_type": "markdown",
   "metadata": {},
   "source": [
    "__Expected Output:__\n",
    "<br>\n",
    "1 2 3\n",
    "<br>\n",
    "1 2 3\n",
    "<br>\n",
    "1 2 3\n",
    "<br>\n",
    "1 2 3\n",
    "<br>\n",
    "1 2 3"
   ]
  },
  {
   "cell_type": "code",
   "execution_count": 7,
   "metadata": {},
   "outputs": [
    {
     "name": "stdout",
     "output_type": "stream",
     "text": [
      "2\n",
      "3\n",
      "5\n",
      "7\n",
      "11\n",
      "13\n",
      "17\n",
      "19\n"
     ]
    }
   ],
   "source": [
    "#Example 3.2 : Find all prime numbers between 2 to 20 and print them \n",
    "\n",
    "for num in range(2,21):\n",
    "    prime = True\n",
    "    for i in range(2,num):\n",
    "        if(num%i == 0):\n",
    "            prime = False\n",
    "    if(prime):\n",
    "        print(num)\n",
    "        "
   ]
  },
  {
   "cell_type": "markdown",
   "metadata": {
    "collapsed": true
   },
   "source": [
    "__Exercise 3.2:__\n",
    "<br>\n",
    "Print all of the prime numbers between 2 and 20 (inclusive), using while loops, instead of for loops as shown in example 3.2."
   ]
  },
  {
   "cell_type": "code",
   "execution_count": 9,
   "metadata": {},
   "outputs": [
    {
     "name": "stdout",
     "output_type": "stream",
     "text": [
      "2\n",
      "3\n",
      "5\n",
      "7\n",
      "11\n",
      "13\n",
      "17\n",
      "19\n"
     ]
    }
   ],
   "source": [
    "### START CODE HERE ### (≈ 11 lines of code)\n",
    "num = 2\n",
    "while(num < 21):\n",
    "    prime = True\n",
    "    i = 2\n",
    "    while(i < num):\n",
    "        if(num % i == 0): \n",
    "            prime = False\n",
    "        i = i + 1\n",
    "    if(prime):\n",
    "        print(num)\n",
    "    num = num + 1\n",
    "###END CODE HERE ###"
   ]
  },
  {
   "cell_type": "markdown",
   "metadata": {},
   "source": [
    "__Expected Output:__\n",
    "<br>\n",
    "2\n",
    "<br>\n",
    "3\n",
    "<br>\n",
    "5\n",
    "<br>\n",
    "7\n",
    "<br>\n",
    "11\n",
    "<br>\n",
    "13\n",
    "<br>\n",
    "17\n",
    "<br>\n",
    "19"
   ]
  },
  {
   "cell_type": "code",
   "execution_count": null,
   "metadata": {
    "collapsed": true
   },
   "outputs": [],
   "source": []
  }
 ],
 "metadata": {
  "anaconda-cloud": {},
  "kernelspec": {
   "display_name": "Python 3",
   "language": "python",
   "name": "python3"
  },
  "language_info": {
   "codemirror_mode": {
    "name": "ipython",
    "version": 3
   },
   "file_extension": ".py",
   "mimetype": "text/x-python",
   "name": "python",
   "nbconvert_exporter": "python",
   "pygments_lexer": "ipython3",
   "version": "3.6.3"
  }
 },
 "nbformat": 4,
 "nbformat_minor": 1
}
